{
 "cells": [
  {
   "cell_type": "code",
   "execution_count": 88,
   "id": "7e52967a",
   "metadata": {},
   "outputs": [],
   "source": [
    "import pandas as pd\n",
    "import os\n",
    "import json\n",
    "import numpy as np\n",
    "import seaborn as sns\n",
    "from scipy import stats\n",
    "from datetime import datetime\n",
    "\n",
    "from sklearn import preprocessing\n",
    "from sklearn.preprocessing import LabelEncoder\n",
    "from sklearn.preprocessing import StandardScaler\n",
    "from sklearn.model_selection import train_test_split\n",
    "from sklearn.metrics import mean_squared_error, r2_score\n",
    "import matplotlib.pyplot as plt\n",
    "import math\n",
    "%matplotlib inline"
   ]
  },
  {
   "cell_type": "code",
   "execution_count": 2,
   "id": "af1914e8",
   "metadata": {},
   "outputs": [],
   "source": [
    "os.chdir(\"D://capstone/\")\n",
    "#analyzing factor:\n",
    "#current_value_opensea: total volume/no. of sold items, no. of sold items/no. of all items, owners, min price\n"
   ]
  },
  {
   "cell_type": "code",
   "execution_count": 3,
   "id": "7624f341",
   "metadata": {},
   "outputs": [],
   "source": [
    "ds=pd.read_csv(\"mydataset.csv\",parse_dates=['first_trade','last_trade_in_old_data'])\n",
    "ds.set_index(ds.columns[0],inplace=True)"
   ]
  },
  {
   "cell_type": "code",
   "execution_count": 8,
   "id": "58b04083",
   "metadata": {},
   "outputs": [],
   "source": [
    "#ds.drop([\"ig_followers\"],axis=1,inplace=True)\n",
    "ds.drop([\"google_trend_name\"],axis=1,inplace=True)"
   ]
  },
  {
   "cell_type": "code",
   "execution_count": 9,
   "id": "ab57e9ff",
   "metadata": {},
   "outputs": [],
   "source": [
    "ds[\"website\"]=ds[\"website\"].apply(lambda x: 1 if type(x)==str else 0)"
   ]
  },
  {
   "cell_type": "code",
   "execution_count": 16,
   "id": "dd21749a",
   "metadata": {},
   "outputs": [
    {
     "name": "stdout",
     "output_type": "stream",
     "text": [
      "<class 'pandas.core.frame.DataFrame'>\n",
      "Index: 2648 entries, Cryptokittie to Ataricapsulecollection\n",
      "Data columns (total 18 columns):\n",
      " #   Column                  Non-Null Count  Dtype         \n",
      "---  ------                  --------------  -----         \n",
      " 0   numitems_traded_by2021  2648 non-null   int64         \n",
      " 1   numtrade_by2021         2648 non-null   int64         \n",
      " 2   total_volume_by2021     2648 non-null   float64       \n",
      " 3   category                2648 non-null   object        \n",
      " 4   first_trade             2648 non-null   datetime64[ns]\n",
      " 5   last_trade_in_old_data  2648 non-null   datetime64[ns]\n",
      " 6   numgoogle_search        2648 non-null   int64         \n",
      " 7   numitems_2022           2648 non-null   float64       \n",
      " 8   owner_2022              2648 non-null   float64       \n",
      " 9   min_price_2022          2648 non-null   float64       \n",
      " 10  total_volume_by2022     2648 non-null   float64       \n",
      " 11  numitems_left_2022      2648 non-null   int64         \n",
      " 12  website                 2648 non-null   int64         \n",
      " 13  twitter_followers       2648 non-null   int64         \n",
      " 14  mean_trend_b4_2021may   2648 non-null   float64       \n",
      " 15  std_trend_b4_2021may    2648 non-null   float64       \n",
      " 16  mean_trend_from_may     2648 non-null   float64       \n",
      " 17  std_trend_from_may      2648 non-null   float64       \n",
      "dtypes: datetime64[ns](2), float64(9), int64(6), object(1)\n",
      "memory usage: 393.1+ KB\n"
     ]
    }
   ],
   "source": [
    "ds.info()"
   ]
  },
  {
   "cell_type": "code",
   "execution_count": 15,
   "id": "ef7ed203",
   "metadata": {},
   "outputs": [],
   "source": [
    "ds.fillna(0,inplace=True)"
   ]
  },
  {
   "cell_type": "code",
   "execution_count": 194,
   "id": "ef9a98c0",
   "metadata": {},
   "outputs": [
    {
     "data": {
      "text/html": [
       "<div>\n",
       "<style scoped>\n",
       "    .dataframe tbody tr th:only-of-type {\n",
       "        vertical-align: middle;\n",
       "    }\n",
       "\n",
       "    .dataframe tbody tr th {\n",
       "        vertical-align: top;\n",
       "    }\n",
       "\n",
       "    .dataframe thead th {\n",
       "        text-align: right;\n",
       "    }\n",
       "</style>\n",
       "<table border=\"1\" class=\"dataframe\">\n",
       "  <thead>\n",
       "    <tr style=\"text-align: right;\">\n",
       "      <th></th>\n",
       "      <th>numtrade_by2021</th>\n",
       "      <th>total_volume_by2021</th>\n",
       "      <th>numgoogle_search</th>\n",
       "      <th>numitems_2022</th>\n",
       "      <th>min_price_2022</th>\n",
       "      <th>website</th>\n",
       "      <th>twitter_followers</th>\n",
       "      <th>mean_trend_b4_2021may</th>\n",
       "      <th>std_trend_b4_2021may</th>\n",
       "      <th>mean_trend_from_may</th>\n",
       "      <th>...</th>\n",
       "      <th>day_per_trade</th>\n",
       "      <th>Collectible</th>\n",
       "      <th>Games</th>\n",
       "      <th>Metaverse</th>\n",
       "      <th>Other</th>\n",
       "      <th>Utility</th>\n",
       "      <th>multiple</th>\n",
       "      <th>owner_ratio</th>\n",
       "      <th>item_ratio</th>\n",
       "      <th>class</th>\n",
       "    </tr>\n",
       "    <tr>\n",
       "      <th>Unnamed: 0</th>\n",
       "      <th></th>\n",
       "      <th></th>\n",
       "      <th></th>\n",
       "      <th></th>\n",
       "      <th></th>\n",
       "      <th></th>\n",
       "      <th></th>\n",
       "      <th></th>\n",
       "      <th></th>\n",
       "      <th></th>\n",
       "      <th></th>\n",
       "      <th></th>\n",
       "      <th></th>\n",
       "      <th></th>\n",
       "      <th></th>\n",
       "      <th></th>\n",
       "      <th></th>\n",
       "      <th></th>\n",
       "      <th></th>\n",
       "      <th></th>\n",
       "      <th></th>\n",
       "    </tr>\n",
       "  </thead>\n",
       "  <tbody>\n",
       "    <tr>\n",
       "      <th>Cryptokittie</th>\n",
       "      <td>366777</td>\n",
       "      <td>55848.640242</td>\n",
       "      <td>2260000</td>\n",
       "      <td>2000000.0</td>\n",
       "      <td>0.0352</td>\n",
       "      <td>1</td>\n",
       "      <td>53800</td>\n",
       "      <td>38.363636</td>\n",
       "      <td>29.207098</td>\n",
       "      <td>32.024390</td>\n",
       "      <td>...</td>\n",
       "      <td>0.003193</td>\n",
       "      <td>0</td>\n",
       "      <td>0</td>\n",
       "      <td>0</td>\n",
       "      <td>0</td>\n",
       "      <td>0</td>\n",
       "      <td>1.260550</td>\n",
       "      <td>0.05675</td>\n",
       "      <td>0.001302</td>\n",
       "      <td>1</td>\n",
       "    </tr>\n",
       "    <tr>\n",
       "      <th>Cryptofighter</th>\n",
       "      <td>2139</td>\n",
       "      <td>40.681530</td>\n",
       "      <td>30100</td>\n",
       "      <td>5000.0</td>\n",
       "      <td>0.2000</td>\n",
       "      <td>1</td>\n",
       "      <td>3164</td>\n",
       "      <td>0.000000</td>\n",
       "      <td>0.000000</td>\n",
       "      <td>8.829268</td>\n",
       "      <td>...</td>\n",
       "      <td>0.529687</td>\n",
       "      <td>0</td>\n",
       "      <td>0</td>\n",
       "      <td>0</td>\n",
       "      <td>1</td>\n",
       "      <td>0</td>\n",
       "      <td>20.795678</td>\n",
       "      <td>0.26000</td>\n",
       "      <td>0.043400</td>\n",
       "      <td>2</td>\n",
       "    </tr>\n",
       "  </tbody>\n",
       "</table>\n",
       "<p>2 rows × 21 columns</p>\n",
       "</div>"
      ],
      "text/plain": [
       "               numtrade_by2021  total_volume_by2021  numgoogle_search  \\\n",
       "Unnamed: 0                                                              \n",
       "Cryptokittie            366777         55848.640242           2260000   \n",
       "Cryptofighter             2139            40.681530             30100   \n",
       "\n",
       "               numitems_2022  min_price_2022  website  twitter_followers  \\\n",
       "Unnamed: 0                                                                 \n",
       "Cryptokittie       2000000.0          0.0352        1              53800   \n",
       "Cryptofighter         5000.0          0.2000        1               3164   \n",
       "\n",
       "               mean_trend_b4_2021may  std_trend_b4_2021may  \\\n",
       "Unnamed: 0                                                   \n",
       "Cryptokittie               38.363636             29.207098   \n",
       "Cryptofighter               0.000000              0.000000   \n",
       "\n",
       "               mean_trend_from_may  ...  day_per_trade  Collectible  Games  \\\n",
       "Unnamed: 0                          ...                                      \n",
       "Cryptokittie             32.024390  ...       0.003193            0      0   \n",
       "Cryptofighter             8.829268  ...       0.529687            0      0   \n",
       "\n",
       "               Metaverse  Other  Utility   multiple  owner_ratio  item_ratio  \\\n",
       "Unnamed: 0                                                                     \n",
       "Cryptokittie           0      0        0   1.260550      0.05675    0.001302   \n",
       "Cryptofighter          0      1        0  20.795678      0.26000    0.043400   \n",
       "\n",
       "               class  \n",
       "Unnamed: 0            \n",
       "Cryptokittie       1  \n",
       "Cryptofighter      2  \n",
       "\n",
       "[2 rows x 21 columns]"
      ]
     },
     "execution_count": 194,
     "metadata": {},
     "output_type": "execute_result"
    }
   ],
   "source": [
    "ds.iloc[:2,:]"
   ]
  },
  {
   "cell_type": "code",
   "execution_count": 54,
   "id": "66d234bc",
   "metadata": {},
   "outputs": [
    {
     "data": {
      "text/html": [
       "<div>\n",
       "<style scoped>\n",
       "    .dataframe tbody tr th:only-of-type {\n",
       "        vertical-align: middle;\n",
       "    }\n",
       "\n",
       "    .dataframe tbody tr th {\n",
       "        vertical-align: top;\n",
       "    }\n",
       "\n",
       "    .dataframe thead th {\n",
       "        text-align: right;\n",
       "    }\n",
       "</style>\n",
       "<table border=\"1\" class=\"dataframe\">\n",
       "  <thead>\n",
       "    <tr style=\"text-align: right;\">\n",
       "      <th></th>\n",
       "      <th>numitems_traded_by2021</th>\n",
       "      <th>numtrade_by2021</th>\n",
       "      <th>total_volume_by2021</th>\n",
       "      <th>category</th>\n",
       "      <th>numgoogle_search</th>\n",
       "      <th>numitems_2022</th>\n",
       "      <th>owner_2022</th>\n",
       "      <th>min_price_2022</th>\n",
       "      <th>total_volume_by2022</th>\n",
       "      <th>numitems_left_2022</th>\n",
       "      <th>website</th>\n",
       "      <th>twitter_followers</th>\n",
       "      <th>mean_trend_b4_2021may</th>\n",
       "      <th>std_trend_b4_2021may</th>\n",
       "      <th>mean_trend_from_may</th>\n",
       "      <th>std_trend_from_may</th>\n",
       "      <th>day_per_trade</th>\n",
       "    </tr>\n",
       "    <tr>\n",
       "      <th>Unnamed: 0</th>\n",
       "      <th></th>\n",
       "      <th></th>\n",
       "      <th></th>\n",
       "      <th></th>\n",
       "      <th></th>\n",
       "      <th></th>\n",
       "      <th></th>\n",
       "      <th></th>\n",
       "      <th></th>\n",
       "      <th></th>\n",
       "      <th></th>\n",
       "      <th></th>\n",
       "      <th></th>\n",
       "      <th></th>\n",
       "      <th></th>\n",
       "      <th></th>\n",
       "      <th></th>\n",
       "    </tr>\n",
       "  </thead>\n",
       "  <tbody>\n",
       "    <tr>\n",
       "      <th>Cryptokittie</th>\n",
       "      <td>321669</td>\n",
       "      <td>366777</td>\n",
       "      <td>5.584864e+04</td>\n",
       "      <td>Art</td>\n",
       "      <td>2260000</td>\n",
       "      <td>2000000.0</td>\n",
       "      <td>113500.0</td>\n",
       "      <td>0.035200</td>\n",
       "      <td>70400.0</td>\n",
       "      <td>2604</td>\n",
       "      <td>1</td>\n",
       "      <td>53800</td>\n",
       "      <td>38.363636</td>\n",
       "      <td>29.207098</td>\n",
       "      <td>32.024390</td>\n",
       "      <td>11.161290</td>\n",
       "      <td>0.003193</td>\n",
       "    </tr>\n",
       "    <tr>\n",
       "      <th>Cryptofighter</th>\n",
       "      <td>1855</td>\n",
       "      <td>2139</td>\n",
       "      <td>4.068153e+01</td>\n",
       "      <td>Other</td>\n",
       "      <td>30100</td>\n",
       "      <td>5000.0</td>\n",
       "      <td>1300.0</td>\n",
       "      <td>0.200000</td>\n",
       "      <td>846.0</td>\n",
       "      <td>217</td>\n",
       "      <td>1</td>\n",
       "      <td>3164</td>\n",
       "      <td>0.000000</td>\n",
       "      <td>0.000000</td>\n",
       "      <td>8.829268</td>\n",
       "      <td>27.448044</td>\n",
       "      <td>0.529687</td>\n",
       "    </tr>\n",
       "    <tr>\n",
       "      <th>Cryptosaga</th>\n",
       "      <td>586</td>\n",
       "      <td>669</td>\n",
       "      <td>2.870632e+01</td>\n",
       "      <td>Other</td>\n",
       "      <td>776000</td>\n",
       "      <td>3900.0</td>\n",
       "      <td>455.0</td>\n",
       "      <td>0.007231</td>\n",
       "      <td>28.2</td>\n",
       "      <td>0</td>\n",
       "      <td>1</td>\n",
       "      <td>0</td>\n",
       "      <td>0.000000</td>\n",
       "      <td>0.000000</td>\n",
       "      <td>2.439024</td>\n",
       "      <td>15.617376</td>\n",
       "      <td>1.666667</td>\n",
       "    </tr>\n",
       "    <tr>\n",
       "      <th>Axie</th>\n",
       "      <td>127984</td>\n",
       "      <td>171278</td>\n",
       "      <td>1.460505e+05</td>\n",
       "      <td>Games</td>\n",
       "      <td>6100000</td>\n",
       "      <td>283800.0</td>\n",
       "      <td>45300.0</td>\n",
       "      <td>0.096899</td>\n",
       "      <td>27500.0</td>\n",
       "      <td>0</td>\n",
       "      <td>1</td>\n",
       "      <td>912300</td>\n",
       "      <td>1.454545</td>\n",
       "      <td>0.687552</td>\n",
       "      <td>46.707317</td>\n",
       "      <td>23.624398</td>\n",
       "      <td>0.005617</td>\n",
       "    </tr>\n",
       "    <tr>\n",
       "      <th>Decentraland</th>\n",
       "      <td>9369</td>\n",
       "      <td>13661</td>\n",
       "      <td>1.099707e+08</td>\n",
       "      <td>Metaverse</td>\n",
       "      <td>5740000</td>\n",
       "      <td>97300.0</td>\n",
       "      <td>6700.0</td>\n",
       "      <td>4.728000</td>\n",
       "      <td>289500.0</td>\n",
       "      <td>1021</td>\n",
       "      <td>1</td>\n",
       "      <td>524500</td>\n",
       "      <td>17.909091</td>\n",
       "      <td>8.926976</td>\n",
       "      <td>29.292683</td>\n",
       "      <td>30.350654</td>\n",
       "      <td>0.075910</td>\n",
       "    </tr>\n",
       "  </tbody>\n",
       "</table>\n",
       "</div>"
      ],
      "text/plain": [
       "               numitems_traded_by2021  numtrade_by2021  total_volume_by2021  \\\n",
       "Unnamed: 0                                                                    \n",
       "Cryptokittie                   321669           366777         5.584864e+04   \n",
       "Cryptofighter                    1855             2139         4.068153e+01   \n",
       "Cryptosaga                        586              669         2.870632e+01   \n",
       "Axie                           127984           171278         1.460505e+05   \n",
       "Decentraland                     9369            13661         1.099707e+08   \n",
       "\n",
       "                category  numgoogle_search  numitems_2022  owner_2022  \\\n",
       "Unnamed: 0                                                              \n",
       "Cryptokittie         Art           2260000      2000000.0    113500.0   \n",
       "Cryptofighter      Other             30100         5000.0      1300.0   \n",
       "Cryptosaga         Other            776000         3900.0       455.0   \n",
       "Axie               Games           6100000       283800.0     45300.0   \n",
       "Decentraland   Metaverse           5740000        97300.0      6700.0   \n",
       "\n",
       "               min_price_2022  total_volume_by2022  numitems_left_2022  \\\n",
       "Unnamed: 0                                                               \n",
       "Cryptokittie         0.035200              70400.0                2604   \n",
       "Cryptofighter        0.200000                846.0                 217   \n",
       "Cryptosaga           0.007231                 28.2                   0   \n",
       "Axie                 0.096899              27500.0                   0   \n",
       "Decentraland         4.728000             289500.0                1021   \n",
       "\n",
       "               website  twitter_followers  mean_trend_b4_2021may  \\\n",
       "Unnamed: 0                                                         \n",
       "Cryptokittie         1              53800              38.363636   \n",
       "Cryptofighter        1               3164               0.000000   \n",
       "Cryptosaga           1                  0               0.000000   \n",
       "Axie                 1             912300               1.454545   \n",
       "Decentraland         1             524500              17.909091   \n",
       "\n",
       "               std_trend_b4_2021may  mean_trend_from_may  std_trend_from_may  \\\n",
       "Unnamed: 0                                                                     \n",
       "Cryptokittie              29.207098            32.024390           11.161290   \n",
       "Cryptofighter              0.000000             8.829268           27.448044   \n",
       "Cryptosaga                 0.000000             2.439024           15.617376   \n",
       "Axie                       0.687552            46.707317           23.624398   \n",
       "Decentraland               8.926976            29.292683           30.350654   \n",
       "\n",
       "               day_per_trade  \n",
       "Unnamed: 0                    \n",
       "Cryptokittie        0.003193  \n",
       "Cryptofighter       0.529687  \n",
       "Cryptosaga          1.666667  \n",
       "Axie                0.005617  \n",
       "Decentraland        0.075910  "
      ]
     },
     "execution_count": 54,
     "metadata": {},
     "output_type": "execute_result"
    }
   ],
   "source": [
    "ds.head()"
   ]
  },
  {
   "cell_type": "code",
   "execution_count": 25,
   "id": "e59acc02",
   "metadata": {},
   "outputs": [
    {
     "data": {
      "text/plain": [
       "[215,\n",
       " 351,\n",
       " 456,\n",
       " 632,\n",
       " 661,\n",
       " 691,\n",
       " 949,\n",
       " 1018,\n",
       " 1191,\n",
       " 1300,\n",
       " 1423,\n",
       " 1658,\n",
       " 1809,\n",
       " 1917,\n",
       " 1978,\n",
       " 1984,\n",
       " 2067]"
      ]
     },
     "execution_count": 25,
     "metadata": {},
     "output_type": "execute_result"
    }
   ],
   "source": [
    "#drop the data if total_volume_by2022==0\n",
    "droplist=[]\n",
    "for i in range(len(ds)):\n",
    "    if ds[\"total_volume_by2022\"].iloc[i]==0:\n",
    "        droplist.append(i)\n",
    "droplist"
   ]
  },
  {
   "cell_type": "code",
   "execution_count": 28,
   "id": "9e1d128a",
   "metadata": {},
   "outputs": [],
   "source": [
    "ds.drop(ds.index[droplist],axis=0,inplace=True)"
   ]
  },
  {
   "cell_type": "code",
   "execution_count": 52,
   "id": "be465de0",
   "metadata": {},
   "outputs": [
    {
     "name": "stdout",
     "output_type": "stream",
     "text": [
      "<class 'pandas.core.frame.DataFrame'>\n",
      "Index: 2414 entries, Cryptokittie to Ataricapsulecollection\n",
      "Data columns (total 17 columns):\n",
      " #   Column                  Non-Null Count  Dtype  \n",
      "---  ------                  --------------  -----  \n",
      " 0   numitems_traded_by2021  2414 non-null   int64  \n",
      " 1   numtrade_by2021         2414 non-null   int64  \n",
      " 2   total_volume_by2021     2414 non-null   float64\n",
      " 3   category                2414 non-null   object \n",
      " 4   numgoogle_search        2414 non-null   int64  \n",
      " 5   numitems_2022           2414 non-null   float64\n",
      " 6   owner_2022              2414 non-null   float64\n",
      " 7   min_price_2022          2414 non-null   float64\n",
      " 8   total_volume_by2022     2414 non-null   float64\n",
      " 9   numitems_left_2022      2414 non-null   int64  \n",
      " 10  website                 2414 non-null   int64  \n",
      " 11  twitter_followers       2414 non-null   int64  \n",
      " 12  mean_trend_b4_2021may   2414 non-null   float64\n",
      " 13  std_trend_b4_2021may    2414 non-null   float64\n",
      " 14  mean_trend_from_may     2414 non-null   float64\n",
      " 15  std_trend_from_may      2414 non-null   float64\n",
      " 16  day_per_trade           2414 non-null   float64\n",
      "dtypes: float64(10), int64(6), object(1)\n",
      "memory usage: 404.0+ KB\n"
     ]
    }
   ],
   "source": [
    "ds.info()"
   ]
  },
  {
   "cell_type": "code",
   "execution_count": 42,
   "id": "16d372a8",
   "metadata": {},
   "outputs": [],
   "source": [
    "def getnumdate(ds):\n",
    "    return (ds[\"last_trade_in_old_data\"]-ds[\"first_trade\"]).days"
   ]
  },
  {
   "cell_type": "code",
   "execution_count": 45,
   "id": "ab285331",
   "metadata": {},
   "outputs": [],
   "source": [
    "ds[\"days\"]=ds.apply(getnumdate,axis=1)"
   ]
  },
  {
   "cell_type": "code",
   "execution_count": 47,
   "id": "bc860a9c",
   "metadata": {},
   "outputs": [],
   "source": [
    "ds.drop([\"last_trade_in_old_data\",\"first_trade\"],axis=1,inplace=True)"
   ]
  },
  {
   "cell_type": "code",
   "execution_count": 49,
   "id": "1bf35be2",
   "metadata": {},
   "outputs": [],
   "source": [
    "def daypertrade(ds):\n",
    "    return (ds[\"days\"]/ds[\"numtrade_by2021\"])"
   ]
  },
  {
   "cell_type": "code",
   "execution_count": 50,
   "id": "dd3ace0b",
   "metadata": {},
   "outputs": [],
   "source": [
    "ds[\"day_per_trade\"]=ds.apply(daypertrade,axis=1)"
   ]
  },
  {
   "cell_type": "code",
   "execution_count": 51,
   "id": "9fbf4910",
   "metadata": {},
   "outputs": [],
   "source": [
    "ds.drop([\"days\"],axis=1,inplace=True)"
   ]
  },
  {
   "cell_type": "code",
   "execution_count": 32,
   "id": "54e8c9d2",
   "metadata": {},
   "outputs": [
    {
     "data": {
      "text/plain": [
       "<AxesSubplot:>"
      ]
     },
     "execution_count": 32,
     "metadata": {},
     "output_type": "execute_result"
    },
    {
     "data": {
      "image/png": "[encoded data removed]",
      "text/plain": [
       "<Figure size 432x288 with 2 Axes>"
      ]
     },
     "metadata": {
      "needs_background": "light"
     },
     "output_type": "display_data"
    }
   ],
   "source": [
    "sns.heatmap(ds.corr(),annot=False)"
   ]
  },
  {
   "cell_type": "code",
   "execution_count": 56,
   "id": "5f06f512",
   "metadata": {},
   "outputs": [
    {
     "data": {
      "text/html": [
       "<div>\n",
       "<style scoped>\n",
       "    .dataframe tbody tr th:only-of-type {\n",
       "        vertical-align: middle;\n",
       "    }\n",
       "\n",
       "    .dataframe tbody tr th {\n",
       "        vertical-align: top;\n",
       "    }\n",
       "\n",
       "    .dataframe thead th {\n",
       "        text-align: right;\n",
       "    }\n",
       "</style>\n",
       "<table border=\"1\" class=\"dataframe\">\n",
       "  <thead>\n",
       "    <tr style=\"text-align: right;\">\n",
       "      <th></th>\n",
       "      <th>numitems_traded_by2021</th>\n",
       "      <th>numtrade_by2021</th>\n",
       "      <th>total_volume_by2021</th>\n",
       "      <th>category</th>\n",
       "      <th>numgoogle_search</th>\n",
       "      <th>numitems_2022</th>\n",
       "      <th>owner_2022</th>\n",
       "      <th>min_price_2022</th>\n",
       "      <th>total_volume_by2022</th>\n",
       "      <th>numitems_left_2022</th>\n",
       "      <th>...</th>\n",
       "      <th>mean_trend_b4_2021may</th>\n",
       "      <th>std_trend_b4_2021may</th>\n",
       "      <th>mean_trend_from_may</th>\n",
       "      <th>std_trend_from_may</th>\n",
       "      <th>day_per_trade</th>\n",
       "      <th>Collectible</th>\n",
       "      <th>Games</th>\n",
       "      <th>Metaverse</th>\n",
       "      <th>Other</th>\n",
       "      <th>Utility</th>\n",
       "    </tr>\n",
       "    <tr>\n",
       "      <th>Unnamed: 0</th>\n",
       "      <th></th>\n",
       "      <th></th>\n",
       "      <th></th>\n",
       "      <th></th>\n",
       "      <th></th>\n",
       "      <th></th>\n",
       "      <th></th>\n",
       "      <th></th>\n",
       "      <th></th>\n",
       "      <th></th>\n",
       "      <th></th>\n",
       "      <th></th>\n",
       "      <th></th>\n",
       "      <th></th>\n",
       "      <th></th>\n",
       "      <th></th>\n",
       "      <th></th>\n",
       "      <th></th>\n",
       "      <th></th>\n",
       "      <th></th>\n",
       "      <th></th>\n",
       "    </tr>\n",
       "  </thead>\n",
       "  <tbody>\n",
       "    <tr>\n",
       "      <th>Cryptokittie</th>\n",
       "      <td>321669</td>\n",
       "      <td>366777</td>\n",
       "      <td>5.584864e+04</td>\n",
       "      <td>Art</td>\n",
       "      <td>2260000</td>\n",
       "      <td>2000000.0</td>\n",
       "      <td>113500.0</td>\n",
       "      <td>0.035200</td>\n",
       "      <td>70400.0</td>\n",
       "      <td>2604</td>\n",
       "      <td>...</td>\n",
       "      <td>38.363636</td>\n",
       "      <td>29.207098</td>\n",
       "      <td>32.024390</td>\n",
       "      <td>11.161290</td>\n",
       "      <td>0.003193</td>\n",
       "      <td>0</td>\n",
       "      <td>0</td>\n",
       "      <td>0</td>\n",
       "      <td>0</td>\n",
       "      <td>0</td>\n",
       "    </tr>\n",
       "    <tr>\n",
       "      <th>Cryptofighter</th>\n",
       "      <td>1855</td>\n",
       "      <td>2139</td>\n",
       "      <td>4.068153e+01</td>\n",
       "      <td>Other</td>\n",
       "      <td>30100</td>\n",
       "      <td>5000.0</td>\n",
       "      <td>1300.0</td>\n",
       "      <td>0.200000</td>\n",
       "      <td>846.0</td>\n",
       "      <td>217</td>\n",
       "      <td>...</td>\n",
       "      <td>0.000000</td>\n",
       "      <td>0.000000</td>\n",
       "      <td>8.829268</td>\n",
       "      <td>27.448044</td>\n",
       "      <td>0.529687</td>\n",
       "      <td>0</td>\n",
       "      <td>0</td>\n",
       "      <td>0</td>\n",
       "      <td>1</td>\n",
       "      <td>0</td>\n",
       "    </tr>\n",
       "    <tr>\n",
       "      <th>Cryptosaga</th>\n",
       "      <td>586</td>\n",
       "      <td>669</td>\n",
       "      <td>2.870632e+01</td>\n",
       "      <td>Other</td>\n",
       "      <td>776000</td>\n",
       "      <td>3900.0</td>\n",
       "      <td>455.0</td>\n",
       "      <td>0.007231</td>\n",
       "      <td>28.2</td>\n",
       "      <td>0</td>\n",
       "      <td>...</td>\n",
       "      <td>0.000000</td>\n",
       "      <td>0.000000</td>\n",
       "      <td>2.439024</td>\n",
       "      <td>15.617376</td>\n",
       "      <td>1.666667</td>\n",
       "      <td>0</td>\n",
       "      <td>0</td>\n",
       "      <td>0</td>\n",
       "      <td>1</td>\n",
       "      <td>0</td>\n",
       "    </tr>\n",
       "    <tr>\n",
       "      <th>Axie</th>\n",
       "      <td>127984</td>\n",
       "      <td>171278</td>\n",
       "      <td>1.460505e+05</td>\n",
       "      <td>Games</td>\n",
       "      <td>6100000</td>\n",
       "      <td>283800.0</td>\n",
       "      <td>45300.0</td>\n",
       "      <td>0.096899</td>\n",
       "      <td>27500.0</td>\n",
       "      <td>0</td>\n",
       "      <td>...</td>\n",
       "      <td>1.454545</td>\n",
       "      <td>0.687552</td>\n",
       "      <td>46.707317</td>\n",
       "      <td>23.624398</td>\n",
       "      <td>0.005617</td>\n",
       "      <td>0</td>\n",
       "      <td>1</td>\n",
       "      <td>0</td>\n",
       "      <td>0</td>\n",
       "      <td>0</td>\n",
       "    </tr>\n",
       "    <tr>\n",
       "      <th>Decentraland</th>\n",
       "      <td>9369</td>\n",
       "      <td>13661</td>\n",
       "      <td>1.099707e+08</td>\n",
       "      <td>Metaverse</td>\n",
       "      <td>5740000</td>\n",
       "      <td>97300.0</td>\n",
       "      <td>6700.0</td>\n",
       "      <td>4.728000</td>\n",
       "      <td>289500.0</td>\n",
       "      <td>1021</td>\n",
       "      <td>...</td>\n",
       "      <td>17.909091</td>\n",
       "      <td>8.926976</td>\n",
       "      <td>29.292683</td>\n",
       "      <td>30.350654</td>\n",
       "      <td>0.075910</td>\n",
       "      <td>0</td>\n",
       "      <td>0</td>\n",
       "      <td>1</td>\n",
       "      <td>0</td>\n",
       "      <td>0</td>\n",
       "    </tr>\n",
       "  </tbody>\n",
       "</table>\n",
       "<p>5 rows × 22 columns</p>\n",
       "</div>"
      ],
      "text/plain": [
       "               numitems_traded_by2021  numtrade_by2021  total_volume_by2021  \\\n",
       "Unnamed: 0                                                                    \n",
       "Cryptokittie                   321669           366777         5.584864e+04   \n",
       "Cryptofighter                    1855             2139         4.068153e+01   \n",
       "Cryptosaga                        586              669         2.870632e+01   \n",
       "Axie                           127984           171278         1.460505e+05   \n",
       "Decentraland                     9369            13661         1.099707e+08   \n",
       "\n",
       "                category  numgoogle_search  numitems_2022  owner_2022  \\\n",
       "Unnamed: 0                                                              \n",
       "Cryptokittie         Art           2260000      2000000.0    113500.0   \n",
       "Cryptofighter      Other             30100         5000.0      1300.0   \n",
       "Cryptosaga         Other            776000         3900.0       455.0   \n",
       "Axie               Games           6100000       283800.0     45300.0   \n",
       "Decentraland   Metaverse           5740000        97300.0      6700.0   \n",
       "\n",
       "               min_price_2022  total_volume_by2022  numitems_left_2022  ...  \\\n",
       "Unnamed: 0                                                              ...   \n",
       "Cryptokittie         0.035200              70400.0                2604  ...   \n",
       "Cryptofighter        0.200000                846.0                 217  ...   \n",
       "Cryptosaga           0.007231                 28.2                   0  ...   \n",
       "Axie                 0.096899              27500.0                   0  ...   \n",
       "Decentraland         4.728000             289500.0                1021  ...   \n",
       "\n",
       "               mean_trend_b4_2021may  std_trend_b4_2021may  \\\n",
       "Unnamed: 0                                                   \n",
       "Cryptokittie               38.363636             29.207098   \n",
       "Cryptofighter               0.000000              0.000000   \n",
       "Cryptosaga                  0.000000              0.000000   \n",
       "Axie                        1.454545              0.687552   \n",
       "Decentraland               17.909091              8.926976   \n",
       "\n",
       "               mean_trend_from_may  std_trend_from_may  day_per_trade  \\\n",
       "Unnamed: 0                                                              \n",
       "Cryptokittie             32.024390           11.161290       0.003193   \n",
       "Cryptofighter             8.829268           27.448044       0.529687   \n",
       "Cryptosaga                2.439024           15.617376       1.666667   \n",
       "Axie                     46.707317           23.624398       0.005617   \n",
       "Decentraland             29.292683           30.350654       0.075910   \n",
       "\n",
       "               Collectible  Games  Metaverse  Other  Utility  \n",
       "Unnamed: 0                                                    \n",
       "Cryptokittie             0      0          0      0        0  \n",
       "Cryptofighter            0      0          0      1        0  \n",
       "Cryptosaga               0      0          0      1        0  \n",
       "Axie                     0      1          0      0        0  \n",
       "Decentraland             0      0          1      0        0  \n",
       "\n",
       "[5 rows x 22 columns]"
      ]
     },
     "execution_count": 56,
     "metadata": {},
     "output_type": "execute_result"
    }
   ],
   "source": [
    "category_df=pd.get_dummies(ds[\"category\"],drop_first=True)\n",
    "ds=pd.concat([ds,category_df],axis=1)\n",
    "ds.head()"
   ]
  },
  {
   "cell_type": "code",
   "execution_count": 57,
   "id": "032037a1",
   "metadata": {},
   "outputs": [],
   "source": [
    "ds.drop([\"category\"],axis=1,inplace=True)"
   ]
  },
  {
   "cell_type": "code",
   "execution_count": 58,
   "id": "2a6bf5b0",
   "metadata": {},
   "outputs": [
    {
     "data": {
      "text/plain": [
       "[<matplotlib.lines.Line2D at 0x282c5ea7a30>]"
      ]
     },
     "execution_count": 58,
     "metadata": {},
     "output_type": "execute_result"
    },
    {
     "data": {
      "image/png": "[encoded data removed]",
      "text/plain": [
       "<Figure size 432x288 with 1 Axes>"
      ]
     },
     "metadata": {
      "needs_background": "light"
     },
     "output_type": "display_data"
    }
   ],
   "source": [
    "#compare total_volume_by2021 and total_volume_by2022\n",
    "plt.plot(ds[\"total_volume_by2021\"],ds[\"total_volume_by2022\"])"
   ]
  },
  {
   "cell_type": "code",
   "execution_count": 59,
   "id": "3c283f48",
   "metadata": {},
   "outputs": [],
   "source": [
    "def mul(ds):\n",
    "    return (ds[\"total_volume_by2022\"]/ds[\"total_volume_by2021\"])"
   ]
  },
  {
   "cell_type": "code",
   "execution_count": 61,
   "id": "6aad32b7",
   "metadata": {},
   "outputs": [],
   "source": [
    "ds[\"multiple\"]=ds.apply(mul,axis=1)"
   ]
  },
  {
   "cell_type": "code",
   "execution_count": 62,
   "id": "38425631",
   "metadata": {},
   "outputs": [],
   "source": [
    "ds.drop([\"total_volume_by2022\"],axis=1,inplace=True)"
   ]
  },
  {
   "cell_type": "code",
   "execution_count": 84,
   "id": "fdd20a56",
   "metadata": {},
   "outputs": [
    {
     "data": {
      "text/html": [
       "<div>\n",
       "<style scoped>\n",
       "    .dataframe tbody tr th:only-of-type {\n",
       "        vertical-align: middle;\n",
       "    }\n",
       "\n",
       "    .dataframe tbody tr th {\n",
       "        vertical-align: top;\n",
       "    }\n",
       "\n",
       "    .dataframe thead th {\n",
       "        text-align: right;\n",
       "    }\n",
       "</style>\n",
       "<table border=\"1\" class=\"dataframe\">\n",
       "  <thead>\n",
       "    <tr style=\"text-align: right;\">\n",
       "      <th></th>\n",
       "      <th>numtrade_by2021</th>\n",
       "      <th>total_volume_by2021</th>\n",
       "      <th>numgoogle_search</th>\n",
       "      <th>numitems_2022</th>\n",
       "      <th>min_price_2022</th>\n",
       "      <th>website</th>\n",
       "      <th>twitter_followers</th>\n",
       "      <th>mean_trend_b4_2021may</th>\n",
       "      <th>std_trend_b4_2021may</th>\n",
       "      <th>mean_trend_from_may</th>\n",
       "      <th>...</th>\n",
       "      <th>day_per_trade</th>\n",
       "      <th>Collectible</th>\n",
       "      <th>Games</th>\n",
       "      <th>Metaverse</th>\n",
       "      <th>Other</th>\n",
       "      <th>Utility</th>\n",
       "      <th>multiple</th>\n",
       "      <th>owner_ratio</th>\n",
       "      <th>item_ratio</th>\n",
       "      <th>class</th>\n",
       "    </tr>\n",
       "    <tr>\n",
       "      <th>Unnamed: 0</th>\n",
       "      <th></th>\n",
       "      <th></th>\n",
       "      <th></th>\n",
       "      <th></th>\n",
       "      <th></th>\n",
       "      <th></th>\n",
       "      <th></th>\n",
       "      <th></th>\n",
       "      <th></th>\n",
       "      <th></th>\n",
       "      <th></th>\n",
       "      <th></th>\n",
       "      <th></th>\n",
       "      <th></th>\n",
       "      <th></th>\n",
       "      <th></th>\n",
       "      <th></th>\n",
       "      <th></th>\n",
       "      <th></th>\n",
       "      <th></th>\n",
       "      <th></th>\n",
       "    </tr>\n",
       "  </thead>\n",
       "  <tbody>\n",
       "    <tr>\n",
       "      <th>Cryptokittie</th>\n",
       "      <td>366777</td>\n",
       "      <td>5.584864e+04</td>\n",
       "      <td>2260000</td>\n",
       "      <td>2000000.0</td>\n",
       "      <td>0.035200</td>\n",
       "      <td>1</td>\n",
       "      <td>53800</td>\n",
       "      <td>38.363636</td>\n",
       "      <td>29.207098</td>\n",
       "      <td>32.024390</td>\n",
       "      <td>...</td>\n",
       "      <td>0.003193</td>\n",
       "      <td>0</td>\n",
       "      <td>0</td>\n",
       "      <td>0</td>\n",
       "      <td>0</td>\n",
       "      <td>0</td>\n",
       "      <td>1.260550</td>\n",
       "      <td>0.056750</td>\n",
       "      <td>0.001302</td>\n",
       "      <td>1</td>\n",
       "    </tr>\n",
       "    <tr>\n",
       "      <th>Cryptofighter</th>\n",
       "      <td>2139</td>\n",
       "      <td>4.068153e+01</td>\n",
       "      <td>30100</td>\n",
       "      <td>5000.0</td>\n",
       "      <td>0.200000</td>\n",
       "      <td>1</td>\n",
       "      <td>3164</td>\n",
       "      <td>0.000000</td>\n",
       "      <td>0.000000</td>\n",
       "      <td>8.829268</td>\n",
       "      <td>...</td>\n",
       "      <td>0.529687</td>\n",
       "      <td>0</td>\n",
       "      <td>0</td>\n",
       "      <td>0</td>\n",
       "      <td>1</td>\n",
       "      <td>0</td>\n",
       "      <td>20.795678</td>\n",
       "      <td>0.260000</td>\n",
       "      <td>0.043400</td>\n",
       "      <td>2</td>\n",
       "    </tr>\n",
       "    <tr>\n",
       "      <th>Cryptosaga</th>\n",
       "      <td>669</td>\n",
       "      <td>2.870632e+01</td>\n",
       "      <td>776000</td>\n",
       "      <td>3900.0</td>\n",
       "      <td>0.007231</td>\n",
       "      <td>1</td>\n",
       "      <td>0</td>\n",
       "      <td>0.000000</td>\n",
       "      <td>0.000000</td>\n",
       "      <td>2.439024</td>\n",
       "      <td>...</td>\n",
       "      <td>1.666667</td>\n",
       "      <td>0</td>\n",
       "      <td>0</td>\n",
       "      <td>0</td>\n",
       "      <td>1</td>\n",
       "      <td>0</td>\n",
       "      <td>0.982362</td>\n",
       "      <td>0.116667</td>\n",
       "      <td>0.000000</td>\n",
       "      <td>0</td>\n",
       "    </tr>\n",
       "    <tr>\n",
       "      <th>Axie</th>\n",
       "      <td>171278</td>\n",
       "      <td>1.460505e+05</td>\n",
       "      <td>6100000</td>\n",
       "      <td>283800.0</td>\n",
       "      <td>0.096899</td>\n",
       "      <td>1</td>\n",
       "      <td>912300</td>\n",
       "      <td>1.454545</td>\n",
       "      <td>0.687552</td>\n",
       "      <td>46.707317</td>\n",
       "      <td>...</td>\n",
       "      <td>0.005617</td>\n",
       "      <td>0</td>\n",
       "      <td>1</td>\n",
       "      <td>0</td>\n",
       "      <td>0</td>\n",
       "      <td>0</td>\n",
       "      <td>0.188291</td>\n",
       "      <td>0.159619</td>\n",
       "      <td>0.000000</td>\n",
       "      <td>0</td>\n",
       "    </tr>\n",
       "    <tr>\n",
       "      <th>Decentraland</th>\n",
       "      <td>13661</td>\n",
       "      <td>1.099707e+08</td>\n",
       "      <td>5740000</td>\n",
       "      <td>97300.0</td>\n",
       "      <td>4.728000</td>\n",
       "      <td>1</td>\n",
       "      <td>524500</td>\n",
       "      <td>17.909091</td>\n",
       "      <td>8.926976</td>\n",
       "      <td>29.292683</td>\n",
       "      <td>...</td>\n",
       "      <td>0.075910</td>\n",
       "      <td>0</td>\n",
       "      <td>0</td>\n",
       "      <td>1</td>\n",
       "      <td>0</td>\n",
       "      <td>0</td>\n",
       "      <td>0.002633</td>\n",
       "      <td>0.068859</td>\n",
       "      <td>0.010493</td>\n",
       "      <td>0</td>\n",
       "    </tr>\n",
       "  </tbody>\n",
       "</table>\n",
       "<p>5 rows × 21 columns</p>\n",
       "</div>"
      ],
      "text/plain": [
       "               numtrade_by2021  total_volume_by2021  numgoogle_search  \\\n",
       "Unnamed: 0                                                              \n",
       "Cryptokittie            366777         5.584864e+04           2260000   \n",
       "Cryptofighter             2139         4.068153e+01             30100   \n",
       "Cryptosaga                 669         2.870632e+01            776000   \n",
       "Axie                    171278         1.460505e+05           6100000   \n",
       "Decentraland             13661         1.099707e+08           5740000   \n",
       "\n",
       "               numitems_2022  min_price_2022  website  twitter_followers  \\\n",
       "Unnamed: 0                                                                 \n",
       "Cryptokittie       2000000.0        0.035200        1              53800   \n",
       "Cryptofighter         5000.0        0.200000        1               3164   \n",
       "Cryptosaga            3900.0        0.007231        1                  0   \n",
       "Axie                283800.0        0.096899        1             912300   \n",
       "Decentraland         97300.0        4.728000        1             524500   \n",
       "\n",
       "               mean_trend_b4_2021may  std_trend_b4_2021may  \\\n",
       "Unnamed: 0                                                   \n",
       "Cryptokittie               38.363636             29.207098   \n",
       "Cryptofighter               0.000000              0.000000   \n",
       "Cryptosaga                  0.000000              0.000000   \n",
       "Axie                        1.454545              0.687552   \n",
       "Decentraland               17.909091              8.926976   \n",
       "\n",
       "               mean_trend_from_may  ...  day_per_trade  Collectible  Games  \\\n",
       "Unnamed: 0                          ...                                      \n",
       "Cryptokittie             32.024390  ...       0.003193            0      0   \n",
       "Cryptofighter             8.829268  ...       0.529687            0      0   \n",
       "Cryptosaga                2.439024  ...       1.666667            0      0   \n",
       "Axie                     46.707317  ...       0.005617            0      1   \n",
       "Decentraland             29.292683  ...       0.075910            0      0   \n",
       "\n",
       "               Metaverse  Other  Utility   multiple  owner_ratio  item_ratio  \\\n",
       "Unnamed: 0                                                                     \n",
       "Cryptokittie           0      0        0   1.260550     0.056750    0.001302   \n",
       "Cryptofighter          0      1        0  20.795678     0.260000    0.043400   \n",
       "Cryptosaga             0      1        0   0.982362     0.116667    0.000000   \n",
       "Axie                   0      0        0   0.188291     0.159619    0.000000   \n",
       "Decentraland           1      0        0   0.002633     0.068859    0.010493   \n",
       "\n",
       "               class  \n",
       "Unnamed: 0            \n",
       "Cryptokittie       1  \n",
       "Cryptofighter      2  \n",
       "Cryptosaga         0  \n",
       "Axie               0  \n",
       "Decentraland       0  \n",
       "\n",
       "[5 rows x 21 columns]"
      ]
     },
     "execution_count": 84,
     "metadata": {},
     "output_type": "execute_result"
    }
   ],
   "source": [
    "ds.head()"
   ]
  },
  {
   "cell_type": "code",
   "execution_count": 65,
   "id": "5f39941f",
   "metadata": {},
   "outputs": [],
   "source": [
    "def ownerratio(ds):\n",
    "    return (ds[\"owner_2022\"]/ds[\"numitems_2022\"])"
   ]
  },
  {
   "cell_type": "code",
   "execution_count": 67,
   "id": "5f0804fc",
   "metadata": {},
   "outputs": [],
   "source": [
    "def itemratio(ds):\n",
    "    return (ds[\"numitems_left_2022\"]/ds[\"numitems_2022\"])"
   ]
  },
  {
   "cell_type": "code",
   "execution_count": 66,
   "id": "147a479e",
   "metadata": {},
   "outputs": [],
   "source": [
    "ds[\"owner_ratio\"]=ds.apply(ownerratio,axis=1)"
   ]
  },
  {
   "cell_type": "code",
   "execution_count": 68,
   "id": "b4b1c9c6",
   "metadata": {},
   "outputs": [],
   "source": [
    "ds[\"item_ratio\"]=ds.apply(itemratio,axis=1)"
   ]
  },
  {
   "cell_type": "code",
   "execution_count": 69,
   "id": "3e0904fb",
   "metadata": {},
   "outputs": [],
   "source": [
    "ds.drop([\"numitems_traded_by2021\",\"owner_2022\",\"numitems_left_2022\"],axis=1,inplace=True)"
   ]
  },
  {
   "cell_type": "code",
   "execution_count": 75,
   "id": "da4786c1",
   "metadata": {},
   "outputs": [
    {
     "name": "stderr",
     "output_type": "stream",
     "text": [
      "C:\\Users\\Kent\\anaconda3\\lib\\site-packages\\seaborn\\distributions.py:2619: FutureWarning: `distplot` is a deprecated function and will be removed in a future version. Please adapt your code to use either `displot` (a figure-level function with similar flexibility) or `histplot` (an axes-level function for histograms).\n",
      "  warnings.warn(msg, FutureWarning)\n"
     ]
    },
    {
     "data": {
      "text/plain": [
       "<AxesSubplot:xlabel='multiple', ylabel='Density'>"
      ]
     },
     "execution_count": 75,
     "metadata": {},
     "output_type": "execute_result"
    },
    {
     "data": {
      "image/png": "[encoded data removed]",
      "text/plain": [
       "<Figure size 432x288 with 1 Axes>"
      ]
     },
     "metadata": {
      "needs_background": "light"
     },
     "output_type": "display_data"
    }
   ],
   "source": [
    "sns.distplot(ds[\"multiple\"])"
   ]
  },
  {
   "cell_type": "code",
   "execution_count": 76,
   "id": "45aaa288",
   "metadata": {},
   "outputs": [
    {
     "data": {
      "text/plain": [
       "0.3624689312344656"
      ]
     },
     "execution_count": 76,
     "metadata": {},
     "output_type": "execute_result"
    }
   ],
   "source": [
    "sum(ds['multiple']<=1)/len(ds)"
   ]
  },
  {
   "cell_type": "code",
   "execution_count": 81,
   "id": "2ce2e0ea",
   "metadata": {},
   "outputs": [
    {
     "data": {
      "text/plain": [
       "0.3637116818558409"
      ]
     },
     "execution_count": 81,
     "metadata": {},
     "output_type": "execute_result"
    }
   ],
   "source": [
    "sum((ds['multiple']>1)&(ds['multiple']<=5))/len(ds)"
   ]
  },
  {
   "cell_type": "code",
   "execution_count": 82,
   "id": "367ace59",
   "metadata": {},
   "outputs": [],
   "source": [
    "#divide the data into 3 groups (multiple: m>5, 5>=m>1, m<=1)\n",
    "def classify(x):\n",
    "    if x>5:\n",
    "        return 2\n",
    "    elif (x<=5)&(x>1):\n",
    "        return 1\n",
    "    else:\n",
    "        return 0"
   ]
  },
  {
   "cell_type": "code",
   "execution_count": 83,
   "id": "49bbd8ce",
   "metadata": {},
   "outputs": [],
   "source": [
    "ds[\"class\"]=ds['multiple'].apply(classify)"
   ]
  },
  {
   "cell_type": "code",
   "execution_count": null,
   "id": "84b83c6e",
   "metadata": {},
   "outputs": [],
   "source": []
  },
  {
   "cell_type": "code",
   "execution_count": 85,
   "id": "f85d4f8a",
   "metadata": {},
   "outputs": [
    {
     "data": {
      "text/plain": [
       "Index(['numtrade_by2021', 'total_volume_by2021', 'numgoogle_search',\n",
       "       'numitems_2022', 'min_price_2022', 'website', 'twitter_followers',\n",
       "       'mean_trend_b4_2021may', 'std_trend_b4_2021may', 'mean_trend_from_may',\n",
       "       'std_trend_from_may', 'day_per_trade', 'Collectible', 'Games',\n",
       "       'Metaverse', 'Other', 'Utility', 'multiple', 'owner_ratio',\n",
       "       'item_ratio', 'class'],\n",
       "      dtype='object')"
      ]
     },
     "execution_count": 85,
     "metadata": {},
     "output_type": "execute_result"
    }
   ],
   "source": [
    "ds.columns"
   ]
  },
  {
   "cell_type": "code",
   "execution_count": 86,
   "id": "ff491205",
   "metadata": {},
   "outputs": [
    {
     "data": {
      "text/html": [
       "<div>\n",
       "<style scoped>\n",
       "    .dataframe tbody tr th:only-of-type {\n",
       "        vertical-align: middle;\n",
       "    }\n",
       "\n",
       "    .dataframe tbody tr th {\n",
       "        vertical-align: top;\n",
       "    }\n",
       "\n",
       "    .dataframe thead th {\n",
       "        text-align: right;\n",
       "    }\n",
       "</style>\n",
       "<table border=\"1\" class=\"dataframe\">\n",
       "  <thead>\n",
       "    <tr style=\"text-align: right;\">\n",
       "      <th></th>\n",
       "      <th>numtrade_by2021</th>\n",
       "      <th>total_volume_by2021</th>\n",
       "      <th>numgoogle_search</th>\n",
       "      <th>numitems_2022</th>\n",
       "      <th>min_price_2022</th>\n",
       "      <th>website</th>\n",
       "      <th>twitter_followers</th>\n",
       "      <th>mean_trend_b4_2021may</th>\n",
       "      <th>std_trend_b4_2021may</th>\n",
       "      <th>mean_trend_from_may</th>\n",
       "      <th>std_trend_from_may</th>\n",
       "      <th>day_per_trade</th>\n",
       "      <th>Collectible</th>\n",
       "      <th>Games</th>\n",
       "      <th>Metaverse</th>\n",
       "      <th>Other</th>\n",
       "      <th>Utility</th>\n",
       "      <th>owner_ratio</th>\n",
       "      <th>item_ratio</th>\n",
       "    </tr>\n",
       "    <tr>\n",
       "      <th>Unnamed: 0</th>\n",
       "      <th></th>\n",
       "      <th></th>\n",
       "      <th></th>\n",
       "      <th></th>\n",
       "      <th></th>\n",
       "      <th></th>\n",
       "      <th></th>\n",
       "      <th></th>\n",
       "      <th></th>\n",
       "      <th></th>\n",
       "      <th></th>\n",
       "      <th></th>\n",
       "      <th></th>\n",
       "      <th></th>\n",
       "      <th></th>\n",
       "      <th></th>\n",
       "      <th></th>\n",
       "      <th></th>\n",
       "      <th></th>\n",
       "    </tr>\n",
       "  </thead>\n",
       "  <tbody>\n",
       "    <tr>\n",
       "      <th>Cryptokittie</th>\n",
       "      <td>366777</td>\n",
       "      <td>5.584864e+04</td>\n",
       "      <td>2260000</td>\n",
       "      <td>2000000.0</td>\n",
       "      <td>0.035200</td>\n",
       "      <td>1</td>\n",
       "      <td>53800</td>\n",
       "      <td>38.363636</td>\n",
       "      <td>29.207098</td>\n",
       "      <td>32.024390</td>\n",
       "      <td>11.161290</td>\n",
       "      <td>0.003193</td>\n",
       "      <td>0</td>\n",
       "      <td>0</td>\n",
       "      <td>0</td>\n",
       "      <td>0</td>\n",
       "      <td>0</td>\n",
       "      <td>0.056750</td>\n",
       "      <td>0.001302</td>\n",
       "    </tr>\n",
       "    <tr>\n",
       "      <th>Cryptofighter</th>\n",
       "      <td>2139</td>\n",
       "      <td>4.068153e+01</td>\n",
       "      <td>30100</td>\n",
       "      <td>5000.0</td>\n",
       "      <td>0.200000</td>\n",
       "      <td>1</td>\n",
       "      <td>3164</td>\n",
       "      <td>0.000000</td>\n",
       "      <td>0.000000</td>\n",
       "      <td>8.829268</td>\n",
       "      <td>27.448044</td>\n",
       "      <td>0.529687</td>\n",
       "      <td>0</td>\n",
       "      <td>0</td>\n",
       "      <td>0</td>\n",
       "      <td>1</td>\n",
       "      <td>0</td>\n",
       "      <td>0.260000</td>\n",
       "      <td>0.043400</td>\n",
       "    </tr>\n",
       "    <tr>\n",
       "      <th>Cryptosaga</th>\n",
       "      <td>669</td>\n",
       "      <td>2.870632e+01</td>\n",
       "      <td>776000</td>\n",
       "      <td>3900.0</td>\n",
       "      <td>0.007231</td>\n",
       "      <td>1</td>\n",
       "      <td>0</td>\n",
       "      <td>0.000000</td>\n",
       "      <td>0.000000</td>\n",
       "      <td>2.439024</td>\n",
       "      <td>15.617376</td>\n",
       "      <td>1.666667</td>\n",
       "      <td>0</td>\n",
       "      <td>0</td>\n",
       "      <td>0</td>\n",
       "      <td>1</td>\n",
       "      <td>0</td>\n",
       "      <td>0.116667</td>\n",
       "      <td>0.000000</td>\n",
       "    </tr>\n",
       "    <tr>\n",
       "      <th>Axie</th>\n",
       "      <td>171278</td>\n",
       "      <td>1.460505e+05</td>\n",
       "      <td>6100000</td>\n",
       "      <td>283800.0</td>\n",
       "      <td>0.096899</td>\n",
       "      <td>1</td>\n",
       "      <td>912300</td>\n",
       "      <td>1.454545</td>\n",
       "      <td>0.687552</td>\n",
       "      <td>46.707317</td>\n",
       "      <td>23.624398</td>\n",
       "      <td>0.005617</td>\n",
       "      <td>0</td>\n",
       "      <td>1</td>\n",
       "      <td>0</td>\n",
       "      <td>0</td>\n",
       "      <td>0</td>\n",
       "      <td>0.159619</td>\n",
       "      <td>0.000000</td>\n",
       "    </tr>\n",
       "    <tr>\n",
       "      <th>Decentraland</th>\n",
       "      <td>13661</td>\n",
       "      <td>1.099707e+08</td>\n",
       "      <td>5740000</td>\n",
       "      <td>97300.0</td>\n",
       "      <td>4.728000</td>\n",
       "      <td>1</td>\n",
       "      <td>524500</td>\n",
       "      <td>17.909091</td>\n",
       "      <td>8.926976</td>\n",
       "      <td>29.292683</td>\n",
       "      <td>30.350654</td>\n",
       "      <td>0.075910</td>\n",
       "      <td>0</td>\n",
       "      <td>0</td>\n",
       "      <td>1</td>\n",
       "      <td>0</td>\n",
       "      <td>0</td>\n",
       "      <td>0.068859</td>\n",
       "      <td>0.010493</td>\n",
       "    </tr>\n",
       "  </tbody>\n",
       "</table>\n",
       "</div>"
      ],
      "text/plain": [
       "               numtrade_by2021  total_volume_by2021  numgoogle_search  \\\n",
       "Unnamed: 0                                                              \n",
       "Cryptokittie            366777         5.584864e+04           2260000   \n",
       "Cryptofighter             2139         4.068153e+01             30100   \n",
       "Cryptosaga                 669         2.870632e+01            776000   \n",
       "Axie                    171278         1.460505e+05           6100000   \n",
       "Decentraland             13661         1.099707e+08           5740000   \n",
       "\n",
       "               numitems_2022  min_price_2022  website  twitter_followers  \\\n",
       "Unnamed: 0                                                                 \n",
       "Cryptokittie       2000000.0        0.035200        1              53800   \n",
       "Cryptofighter         5000.0        0.200000        1               3164   \n",
       "Cryptosaga            3900.0        0.007231        1                  0   \n",
       "Axie                283800.0        0.096899        1             912300   \n",
       "Decentraland         97300.0        4.728000        1             524500   \n",
       "\n",
       "               mean_trend_b4_2021may  std_trend_b4_2021may  \\\n",
       "Unnamed: 0                                                   \n",
       "Cryptokittie               38.363636             29.207098   \n",
       "Cryptofighter               0.000000              0.000000   \n",
       "Cryptosaga                  0.000000              0.000000   \n",
       "Axie                        1.454545              0.687552   \n",
       "Decentraland               17.909091              8.926976   \n",
       "\n",
       "               mean_trend_from_may  std_trend_from_may  day_per_trade  \\\n",
       "Unnamed: 0                                                              \n",
       "Cryptokittie             32.024390           11.161290       0.003193   \n",
       "Cryptofighter             8.829268           27.448044       0.529687   \n",
       "Cryptosaga                2.439024           15.617376       1.666667   \n",
       "Axie                     46.707317           23.624398       0.005617   \n",
       "Decentraland             29.292683           30.350654       0.075910   \n",
       "\n",
       "               Collectible  Games  Metaverse  Other  Utility  owner_ratio  \\\n",
       "Unnamed: 0                                                                  \n",
       "Cryptokittie             0      0          0      0        0     0.056750   \n",
       "Cryptofighter            0      0          0      1        0     0.260000   \n",
       "Cryptosaga               0      0          0      1        0     0.116667   \n",
       "Axie                     0      1          0      0        0     0.159619   \n",
       "Decentraland             0      0          1      0        0     0.068859   \n",
       "\n",
       "               item_ratio  \n",
       "Unnamed: 0                 \n",
       "Cryptokittie     0.001302  \n",
       "Cryptofighter    0.043400  \n",
       "Cryptosaga       0.000000  \n",
       "Axie             0.000000  \n",
       "Decentraland     0.010493  "
      ]
     },
     "execution_count": 86,
     "metadata": {},
     "output_type": "execute_result"
    }
   ],
   "source": [
    "#logreg\n",
    "y = ds[\"class\"]\n",
    "X = ds.drop(columns=[\"class\",\"multiple\"])\n",
    "X.head()"
   ]
  },
  {
   "cell_type": "code",
   "execution_count": 175,
   "id": "637d8495",
   "metadata": {},
   "outputs": [],
   "source": [
    "X_train, X_test, y_train, y_test = train_test_split(X, y, test_size=0.3, random_state=101)\n",
    "\n",
    "#Scale it \n",
    "scaler = StandardScaler() \n",
    "X_train = scaler.fit_transform(X_train)\n",
    "X_test=scaler.transform(X_test)"
   ]
  },
  {
   "cell_type": "code",
   "execution_count": 90,
   "id": "f1b0a55d",
   "metadata": {},
   "outputs": [
    {
     "data": {
      "text/plain": [
       "LogisticRegression()"
      ]
     },
     "execution_count": 90,
     "metadata": {},
     "output_type": "execute_result"
    }
   ],
   "source": [
    "# Import module for fitting\n",
    "from sklearn.linear_model import LogisticRegression\n",
    "\n",
    "# Create instance (i.e. object) of LogisticRegression\n",
    "logmodel = LogisticRegression()\n",
    "\n",
    "# Fit the model using the training data\n",
    "logmodel.fit(X_train, y_train)"
   ]
  },
  {
   "cell_type": "code",
   "execution_count": 91,
   "id": "2ab975ea",
   "metadata": {},
   "outputs": [
    {
     "data": {
      "text/plain": [
       "array([0, 1, 1, 2, 2, 2, 1, 2, 1, 1, 2, 1, 0, 0, 1, 1, 1, 0, 1, 2, 1, 1,\n",
       "       1, 2, 2, 1, 1, 1, 1, 1, 1, 1, 1, 0, 0, 0, 1, 1, 0, 2, 1, 1, 1, 1,\n",
       "       1, 1, 1, 2, 1, 1, 1, 1, 1, 2, 0, 0, 0, 1, 0, 1, 1, 1, 1, 1, 1, 1,\n",
       "       1, 1, 1, 1, 2, 1, 2, 1, 1, 1, 0, 2, 1, 1, 0, 0, 2, 1, 0, 2, 1, 1,\n",
       "       1, 1, 0, 1, 1, 1, 1, 0, 1, 0, 1, 2, 1, 1, 0, 1, 0, 1, 1, 1, 1, 1,\n",
       "       1, 1, 2, 2, 1, 1, 1, 2, 1, 1, 1, 1, 1, 1, 1, 1, 2, 1, 1, 2, 2, 0,\n",
       "       0, 1, 1, 1, 1, 0, 1, 1, 1, 2, 0, 0, 1, 0, 1, 2, 1, 1, 1, 2, 2, 1,\n",
       "       0, 2, 1, 0, 0, 1, 2, 1, 1, 1, 0, 1, 1, 1, 0, 0, 1, 1, 1, 1, 1, 1,\n",
       "       1, 1, 2, 1, 2, 1, 1, 0, 1, 1, 1, 1, 1, 1, 1, 0, 1, 1, 1, 2, 1, 2,\n",
       "       1, 1, 1, 1, 1, 1, 1, 1, 1, 1, 1, 0, 1, 2, 1, 1, 2, 1, 2, 1, 0, 1,\n",
       "       1, 2, 1, 1, 2, 1, 1, 1, 1, 1, 0, 1, 1, 0, 1, 1, 1, 1, 1, 1, 1, 1,\n",
       "       1, 1, 1, 1, 1, 2, 1, 1, 1, 0, 1, 1, 1, 1, 0, 1, 2, 1, 1, 1, 1, 1,\n",
       "       1, 1, 1, 1, 2, 0, 1, 2, 1, 1, 1, 1, 1, 1, 0, 0, 2, 1, 1, 1, 1, 2,\n",
       "       1, 1, 0, 2, 1, 0, 1, 2, 1, 2, 1, 1, 2, 2, 1, 1, 1, 2, 1, 1, 1, 1,\n",
       "       1, 1, 0, 1, 0, 1, 2, 1, 0, 0, 1, 1, 1, 1, 1, 1, 1, 0, 0, 1, 0, 2,\n",
       "       2, 1, 1, 1, 0, 0, 1, 0, 1, 1, 1, 1, 1, 0, 1, 1, 1, 1, 2, 1, 0, 1,\n",
       "       1, 1, 0, 1, 1, 2, 2, 2, 1, 1, 1, 0, 1, 0, 0, 1, 2, 2, 1, 1, 1, 1,\n",
       "       1, 0, 0, 0, 1, 0, 0, 1, 1, 0, 0, 0, 1, 2, 2, 2, 1, 1, 1, 1, 1, 0,\n",
       "       1, 1, 2, 1, 2, 1, 1, 0, 0, 1, 1, 1, 1, 1, 1, 2, 1, 1, 0, 1, 0, 1,\n",
       "       0, 2, 1, 0, 1, 0, 0, 1, 1, 1, 0, 2, 2, 2, 2, 1, 0, 0, 0, 1, 1, 1,\n",
       "       1, 1, 1, 1, 1, 1, 0, 0, 1, 0, 1, 1, 2, 1, 1, 1, 1, 1, 0, 1, 1, 2,\n",
       "       2, 2, 0, 1, 1, 1, 1, 1, 1, 0, 1, 1, 0, 1, 0, 2, 1, 2, 0, 2, 1, 1,\n",
       "       1, 0, 1, 0, 1, 1, 1, 0, 1, 1, 1, 0, 1, 1, 1, 1, 1, 1, 1, 0, 1, 1,\n",
       "       1, 0, 1, 2, 1, 0, 1, 0, 0, 2, 1, 1, 0, 0, 0, 1, 1, 1, 2, 0, 1, 0,\n",
       "       1, 1, 1, 1, 1, 2, 1, 2, 1, 2, 1, 1, 2, 1, 1, 1, 2, 0, 1, 1, 1, 2,\n",
       "       1, 1, 0, 0, 1, 0, 1, 1, 2, 1, 1, 2, 1, 0, 1, 0, 0, 1, 1, 1, 2, 1,\n",
       "       1, 2, 1, 1, 0, 2, 2, 1, 1, 1, 1, 1, 1, 0, 1, 1, 1, 1, 1, 1, 2, 1,\n",
       "       0, 0, 1, 1, 2, 2, 1, 0, 2, 0, 0, 2, 1, 1, 1, 1, 1, 0, 1, 2, 1, 1,\n",
       "       0, 0, 1, 1, 1, 0, 0, 1, 1, 1, 0, 1, 0, 1, 0, 1, 2, 0, 1, 0, 1, 1,\n",
       "       1, 2, 2, 0, 0, 0, 1, 1, 0, 2, 2, 1, 0, 2, 1, 1, 2, 1, 1, 2, 0, 1,\n",
       "       1, 1, 1, 1, 1, 0, 0, 1, 1, 1, 2, 0, 1, 1, 1, 1, 1, 1, 1, 1, 1, 0,\n",
       "       1, 1, 1, 1, 1, 0, 1, 0, 1, 1, 1, 1, 0, 1, 0, 0, 0, 1, 1, 1, 1, 1,\n",
       "       1, 1, 1, 1, 1, 2, 1, 1, 1, 2, 1, 0, 1, 2, 1, 1, 2, 1, 1, 1, 1],\n",
       "      dtype=int64)"
      ]
     },
     "execution_count": 91,
     "metadata": {},
     "output_type": "execute_result"
    }
   ],
   "source": [
    "#Predicting the target for test data\n",
    "predictions = logmodel.predict(X_test)\n",
    "predictions"
   ]
  },
  {
   "cell_type": "code",
   "execution_count": 92,
   "id": "5b449fc3",
   "metadata": {},
   "outputs": [
    {
     "data": {
      "text/plain": [
       "(725, 19)"
      ]
     },
     "execution_count": 92,
     "metadata": {},
     "output_type": "execute_result"
    }
   ],
   "source": [
    "X_test.shape"
   ]
  },
  {
   "cell_type": "code",
   "execution_count": 93,
   "id": "d71a2d0e",
   "metadata": {},
   "outputs": [
    {
     "name": "stdout",
     "output_type": "stream",
     "text": [
      "[[-0.05561841 -0.05157682 -0.12390686 -0.08340698 -0.0159101   0.62368282\n",
      "   0.27381507 -0.50190463 -0.53903721 -0.53085667 -0.70781228  0.92650169\n",
      "  -0.15772964 -0.13447372 -0.07717465  0.33453809 -0.06451133 -0.05696419\n",
      "  -0.04135484]\n",
      " [-0.05537978 -0.05129525  0.13421227 -0.12650896 -0.08324543  0.62368282\n",
      "  -0.04531432  0.02101127  1.3812839  -0.18849521  1.16938119 -0.02364978\n",
      "  -0.15772964 -0.13447372 -0.07717465  0.33453809 -0.06451133 -0.05864967\n",
      "  -0.04218916]\n",
      " [-0.05180027 -0.05157643 -0.12377868 -0.13785574 -0.08909127  0.62368282\n",
      "  -0.04501852 -0.50190463 -0.53903721 -0.53085667 -0.70781228 -0.38067639\n",
      "  -0.15772964 -0.13447372 -0.07717465  0.33453809 -0.06451133 -0.05655572\n",
      "  -0.03712947]]\n"
     ]
    }
   ],
   "source": [
    "print(X_test[0:3])"
   ]
  },
  {
   "cell_type": "code",
   "execution_count": 94,
   "id": "0a5e2c9d",
   "metadata": {},
   "outputs": [
    {
     "name": "stdout",
     "output_type": "stream",
     "text": [
      "[0 1 1]\n"
     ]
    }
   ],
   "source": [
    "print(predictions[0:3])"
   ]
  },
  {
   "cell_type": "code",
   "execution_count": 95,
   "id": "b5b143d9",
   "metadata": {},
   "outputs": [
    {
     "name": "stdout",
     "output_type": "stream",
     "text": [
      "Unnamed: 0\n",
      "Elijayneartstore    2\n",
      "Baeige              0\n",
      "Cryptoduckie        2\n",
      "Name: class, dtype: int64\n"
     ]
    }
   ],
   "source": [
    "print(y_test[0:3])"
   ]
  },
  {
   "cell_type": "code",
   "execution_count": 96,
   "id": "99544956",
   "metadata": {},
   "outputs": [
    {
     "data": {
      "text/plain": [
       "0.45241379310344826"
      ]
     },
     "execution_count": 96,
     "metadata": {},
     "output_type": "execute_result"
    }
   ],
   "source": [
    "from sklearn.metrics import accuracy_score\n",
    "accuracy_score(y_test, predictions)"
   ]
  },
  {
   "cell_type": "code",
   "execution_count": 97,
   "id": "136039ff",
   "metadata": {},
   "outputs": [
    {
     "name": "stdout",
     "output_type": "stream",
     "text": [
      "              precision    recall  f1-score   support\n",
      "\n",
      "           0       0.44      0.24      0.31       269\n",
      "           1       0.41      0.75      0.53       253\n",
      "           2       0.66      0.36      0.46       203\n",
      "\n",
      "    accuracy                           0.45       725\n",
      "   macro avg       0.50      0.45      0.43       725\n",
      "weighted avg       0.49      0.45      0.43       725\n",
      "\n"
     ]
    }
   ],
   "source": [
    "from sklearn.metrics import classification_report\n",
    "print(classification_report(y_test,predictions))\n"
   ]
  },
  {
   "cell_type": "code",
   "execution_count": 101,
   "id": "3a832d6e",
   "metadata": {},
   "outputs": [
    {
     "data": {
      "text/plain": [
       "array([[ 64, 185,  20],\n",
       "       [ 44, 191,  18],\n",
       "       [ 39,  91,  73]], dtype=int64)"
      ]
     },
     "execution_count": 101,
     "metadata": {},
     "output_type": "execute_result"
    }
   ],
   "source": [
    "from sklearn.metrics import confusion_matrix\n",
    "confusion_matrix(y_test, predictions).ravel().reshape(3,3)\n",
    "#column=true condition"
   ]
  },
  {
   "cell_type": "code",
   "execution_count": null,
   "id": "99ae03c5",
   "metadata": {},
   "outputs": [],
   "source": []
  },
  {
   "cell_type": "code",
   "execution_count": 102,
   "id": "dcc196a6",
   "metadata": {},
   "outputs": [
    {
     "data": {
      "text/plain": [
       "DecisionTreeClassifier()"
      ]
     },
     "execution_count": 102,
     "metadata": {},
     "output_type": "execute_result"
    }
   ],
   "source": [
    "#decision tree\n",
    "# Import module for fitting\n",
    "from sklearn.tree import DecisionTreeClassifier\n",
    "model = DecisionTreeClassifier()\n",
    "# Fit the model using the training data\n",
    "# X_train -> parameter supplies the data features\n",
    "# y_train -> parameter supplies the target labels\n",
    "model.fit(X_train, y_train)"
   ]
  },
  {
   "cell_type": "code",
   "execution_count": 103,
   "id": "4019237c",
   "metadata": {},
   "outputs": [
    {
     "name": "stdout",
     "output_type": "stream",
     "text": [
      "Testing report               precision    recall  f1-score   support\n",
      "\n",
      "           0       0.65      0.62      0.64       269\n",
      "           1       0.54      0.51      0.52       253\n",
      "           2       0.65      0.73      0.69       203\n",
      "\n",
      "    accuracy                           0.61       725\n",
      "   macro avg       0.61      0.62      0.62       725\n",
      "weighted avg       0.61      0.61      0.61       725\n",
      "\n"
     ]
    }
   ],
   "source": [
    "# evaluate the model\n",
    "from sklearn.metrics import classification_report\n",
    "y_test_pred = model.predict(X_test)\n",
    "print(f\"Testing report {classification_report(y_test,y_test_pred)}\")\n"
   ]
  },
  {
   "cell_type": "code",
   "execution_count": 104,
   "id": "cd5256c5",
   "metadata": {},
   "outputs": [
    {
     "data": {
      "text/plain": [
       "array([[168,  78,  23],\n",
       "       [ 68, 129,  56],\n",
       "       [ 23,  32, 148]], dtype=int64)"
      ]
     },
     "execution_count": 104,
     "metadata": {},
     "output_type": "execute_result"
    }
   ],
   "source": [
    "from sklearn.metrics import confusion_matrix\n",
    "confusion_matrix(y_test,y_test_pred)\n",
    "\n",
    "#positive = survived\n",
    "#negative = not survived\n",
    "\n",
    "                #Actual \n",
    "\n",
    "              #  True positive(50)           False positive  (7)\n",
    "\n",
    "              #  False Negative (5)           True Negative(60)\n",
    "\n"
   ]
  },
  {
   "cell_type": "code",
   "execution_count": 105,
   "id": "5da418e7",
   "metadata": {},
   "outputs": [],
   "source": [
    "#KNN\n",
    "#import the KNeighborsClassifier class from sklearn\n",
    "from sklearn.neighbors import KNeighborsClassifier\n",
    "\n",
    "#import metrics model to check the accuracy \n",
    "from sklearn import metrics\n",
    "#Try running from k=1 through 25 and record testing accuracy\n",
    "k_range = range(1,26)\n",
    "scores = {}\n",
    "scores_list = []\n",
    "for k in k_range:\n",
    "        knn = KNeighborsClassifier(n_neighbors=k)\n",
    "        knn.fit(X_train,y_train)\n",
    "        y_pred=knn.predict(X_test)\n",
    "        scores[k] = metrics.accuracy_score(y_test,y_pred)\n",
    "        scores_list.append(metrics.accuracy_score(y_test,y_pred))"
   ]
  },
  {
   "cell_type": "code",
   "execution_count": 106,
   "id": "1f10caa9",
   "metadata": {},
   "outputs": [
    {
     "data": {
      "text/plain": [
       "0.45655172413793105"
      ]
     },
     "execution_count": 106,
     "metadata": {},
     "output_type": "execute_result"
    }
   ],
   "source": [
    "#import the KNeighborsClassifier class from sklearn\n",
    "from sklearn.neighbors import KNeighborsClassifier\n",
    "knnmodel = KNeighborsClassifier(n_neighbors=3)\n",
    "knnmodel.fit(X_train,y_train)\n",
    "predictions=knnmodel.predict(X_test)\n",
    "accuracy_score(y_test, predictions)"
   ]
  },
  {
   "cell_type": "code",
   "execution_count": 107,
   "id": "cd37c4f2",
   "metadata": {},
   "outputs": [
    {
     "data": {
      "text/plain": [
       "{1: 0.4827586206896552,\n",
       " 2: 0.4675862068965517,\n",
       " 3: 0.45655172413793105,\n",
       " 4: 0.463448275862069,\n",
       " 5: 0.4675862068965517,\n",
       " 6: 0.4579310344827586,\n",
       " 7: 0.46206896551724136,\n",
       " 8: 0.463448275862069,\n",
       " 9: 0.45517241379310347,\n",
       " 10: 0.44413793103448274,\n",
       " 11: 0.45655172413793105,\n",
       " 12: 0.47172413793103446,\n",
       " 13: 0.46206896551724136,\n",
       " 14: 0.4689655172413793,\n",
       " 15: 0.463448275862069,\n",
       " 16: 0.46482758620689657,\n",
       " 17: 0.4731034482758621,\n",
       " 18: 0.4731034482758621,\n",
       " 19: 0.4772413793103448,\n",
       " 20: 0.47586206896551725,\n",
       " 21: 0.47448275862068967,\n",
       " 22: 0.4786206896551724,\n",
       " 23: 0.4772413793103448,\n",
       " 24: 0.4868965517241379,\n",
       " 25: 0.4731034482758621}"
      ]
     },
     "execution_count": 107,
     "metadata": {},
     "output_type": "execute_result"
    }
   ],
   "source": [
    "#Testing accuracy for each value of K\n",
    "scores"
   ]
  },
  {
   "cell_type": "code",
   "execution_count": 108,
   "id": "d68c83e3",
   "metadata": {},
   "outputs": [
    {
     "data": {
      "text/plain": [
       "Text(0, 0.5, 'Testing Accuracy')"
      ]
     },
     "execution_count": 108,
     "metadata": {},
     "output_type": "execute_result"
    },
    {
     "data": {
      "image/png": "[encoded data removed]",
      "text/plain": [
       "<Figure size 432x288 with 1 Axes>"
      ]
     },
     "metadata": {
      "needs_background": "light"
     },
     "output_type": "display_data"
    }
   ],
   "source": [
    "#plot the relationship between K and the testing accuracy\n",
    "plt.plot(k_range,scores_list)\n",
    "plt.xlabel('Value of K for KNN')\n",
    "plt.ylabel('Testing Accuracy')"
   ]
  },
  {
   "cell_type": "code",
   "execution_count": 110,
   "id": "f2ad7f6a",
   "metadata": {},
   "outputs": [
    {
     "name": "stdout",
     "output_type": "stream",
     "text": [
      "0.7282758620689656\n"
     ]
    }
   ],
   "source": [
    "#random forest\n",
    "from sklearn.ensemble import RandomForestClassifier\n",
    "from sklearn.metrics import accuracy_score\n",
    "\n",
    "rnd_clf = RandomForestClassifier(n_estimators=500,n_jobs=-1, random_state=42)\n",
    "rnd_clf.fit(X_train, y_train)\n",
    "\n",
    "#n_estimators: no. of decision trees\n",
    "#n_jobs: The number of jobs to run in parallel. None means 1 , -1 means using all processors\n",
    "y_pred_rf = rnd_clf.predict(X_test)\n",
    "print(accuracy_score(y_test, y_pred_rf))"
   ]
  },
  {
   "cell_type": "code",
   "execution_count": 177,
   "id": "43b33b7a",
   "metadata": {},
   "outputs": [
    {
     "name": "stdout",
     "output_type": "stream",
     "text": [
      "try 600 : 0.7282758620689656\n",
      "try 700 : 0.7282758620689656\n",
      "try 800 : 0.7282758620689656\n",
      "try 900 : 0.7282758620689656\n",
      "try 1000 : 0.7282758620689656\n"
     ]
    }
   ],
   "source": [
    "#random forest 2nd\n",
    "for i in [600,700,800,900,1000]:\n",
    "\n",
    "    rnd_clf = RandomForestClassifier(n_estimators=700,n_jobs=-1, random_state=42)\n",
    "    rnd_clf.fit(X_train, y_train)\n",
    "\n",
    "    #n_estimators: no. of decision trees\n",
    "    #n_jobs: The number of jobs to run in parallel. None means 1 , -1 means using all processors\n",
    "    y_pred_rf = rnd_clf.predict(X_test)\n",
    "    print(\"try\",i,\":\",accuracy_score(y_test, y_pred_rf))"
   ]
  },
  {
   "cell_type": "code",
   "execution_count": 179,
   "id": "575598af",
   "metadata": {},
   "outputs": [
    {
     "name": "stdout",
     "output_type": "stream",
     "text": [
      "\n",
      " Estimator value:  1\n",
      "[[135  98  36]\n",
      " [ 72 140  41]\n",
      " [ 33  31 139]]\n",
      "Accuracy:  0.5710344827586207\n",
      "\n",
      " Estimator value:  2\n",
      "[[213  46  10]\n",
      " [132 109  12]\n",
      " [ 33  67 103]]\n",
      "Accuracy:  0.5862068965517241\n",
      "\n",
      " Estimator value:  3\n",
      "[[178  78  13]\n",
      " [103 117  33]\n",
      " [ 28  47 128]]\n",
      "Accuracy:  0.5834482758620689\n",
      "\n",
      " Estimator value:  50\n",
      "[[184  67  18]\n",
      " [ 68 162  23]\n",
      " [ 12  38 153]]\n",
      "Accuracy:  0.6882758620689655\n",
      "\n",
      " Estimator value:  100\n",
      "[[193  63  13]\n",
      " [ 55 172  26]\n",
      " [ 10  34 159]]\n",
      "Accuracy:  0.7227586206896551\n",
      "\n",
      " Estimator value:  250\n",
      "[[188  68  13]\n",
      " [ 55 172  26]\n",
      " [ 10  36 157]]\n",
      "Accuracy:  0.713103448275862\n",
      "\n",
      " Estimator value:  500\n",
      "[[184  72  13]\n",
      " [ 55 172  26]\n",
      " [  8  38 157]]\n",
      "Accuracy:  0.7075862068965517\n"
     ]
    }
   ],
   "source": [
    "from sklearn.metrics import roc_auc_score\n",
    "\n",
    "leaf_size = [2,3,5,10]\n",
    "n_estimators_list = [1,2,3,50,100,250,500]\n",
    "\n",
    "for estim_list in n_estimators_list:\n",
    "    model = RandomForestClassifier(n_estimators=estim_list)\n",
    "    model.fit(X_train, y_train)\n",
    "    y_pred = model.predict(X_test)\n",
    "    result = confusion_matrix(y_test, y_pred)\n",
    "    result2 = accuracy_score(y_test, y_pred)\n",
    "    print('\\n Estimator value: ', estim_list)\n",
    "    print(result)\n",
    "    print('Accuracy: ', result2)"
   ]
  },
  {
   "cell_type": "code",
   "execution_count": 180,
   "id": "122f7cc2",
   "metadata": {},
   "outputs": [
    {
     "name": "stdout",
     "output_type": "stream",
     "text": [
      "\n",
      " Leaf size:  2\n",
      "Accuracy:  0.713103448275862\n",
      "\n",
      " Leaf size:  3\n",
      "Accuracy:  0.7006896551724138\n",
      "\n",
      " Leaf size:  5\n",
      "Accuracy:  0.6937931034482758\n",
      "\n",
      " Leaf size:  10\n",
      "Accuracy:  0.6993103448275862\n"
     ]
    }
   ],
   "source": [
    "for leaf_size in leaf_size:\n",
    "    model = RandomForestClassifier(n_estimators=100, min_samples_leaf = leaf_size)\n",
    "    model.fit(X_train, y_train)\n",
    "    y_pred = model.predict(X_test)\n",
    "    result = confusion_matrix(y_test, y_pred)\n",
    "    result2 = accuracy_score(y_test, y_pred)\n",
    "    print('\\n Leaf size: ', leaf_size)\n",
    "    print('Accuracy: ', result2)"
   ]
  },
  {
   "cell_type": "code",
   "execution_count": 181,
   "id": "e66af72c",
   "metadata": {},
   "outputs": [
    {
     "name": "stdout",
     "output_type": "stream",
     "text": [
      "{'n_estimators': [200, 400, 600, 800, 1000, 1200, 1400, 1600, 1800, 2000], 'max_depth': [10, 20, 30, 40, 50, 60, 70, 80, 90, 100, 110, None], 'min_samples_split': [2, 5, 10], 'min_samples_leaf': [1, 2, 4], 'bootstrap': [True, False]}\n"
     ]
    }
   ],
   "source": [
    "#randomized search\n",
    "from sklearn.model_selection import RandomizedSearchCV\n",
    "# Number of trees in random forest\n",
    "n_estimators = [int(x) for x in np.linspace(start = 200, stop = 2000, num = 10)]\n",
    "# Maximum number of levels in tree\n",
    "max_depth = [int(x) for x in np.linspace(10, 110, num = 11)]\n",
    "max_depth.append(None)\n",
    "# Minimum number of samples required to split a node\n",
    "min_samples_split = [2, 5, 10]\n",
    "# Minimum number of samples required at each leaf node\n",
    "min_samples_leaf = [1, 2, 4]\n",
    "# Method of selecting samples for training each tree\n",
    "bootstrap = [True, False]\n",
    "# Create the random grid\n",
    "random_grid = {'n_estimators': n_estimators,\n",
    "               'max_depth': max_depth,\n",
    "               'min_samples_split': min_samples_split,\n",
    "               'min_samples_leaf': min_samples_leaf,\n",
    "               'bootstrap': bootstrap}\n",
    "print(random_grid)"
   ]
  },
  {
   "cell_type": "code",
   "execution_count": 182,
   "id": "2d88fd7e",
   "metadata": {},
   "outputs": [
    {
     "name": "stdout",
     "output_type": "stream",
     "text": [
      "Fitting 3 folds for each of 100 candidates, totalling 300 fits\n"
     ]
    },
    {
     "data": {
      "text/plain": [
       "RandomizedSearchCV(cv=3, estimator=RandomForestClassifier(), n_iter=100,\n",
       "                   n_jobs=-1,\n",
       "                   param_distributions={'bootstrap': [True, False],\n",
       "                                        'max_depth': [10, 20, 30, 40, 50, 60,\n",
       "                                                      70, 80, 90, 100, 110,\n",
       "                                                      None],\n",
       "                                        'min_samples_leaf': [1, 2, 4],\n",
       "                                        'min_samples_split': [2, 5, 10],\n",
       "                                        'n_estimators': [200, 400, 600, 800,\n",
       "                                                         1000, 1200, 1400, 1600,\n",
       "                                                         1800, 2000]},\n",
       "                   random_state=42, verbose=2)"
      ]
     },
     "execution_count": 182,
     "metadata": {},
     "output_type": "execute_result"
    }
   ],
   "source": [
    "# Use the random grid to search for best hyperparameters\n",
    "# First create the base model to tune\n",
    "rf = RandomForestClassifier()\n",
    "# Random search of parameters, using 3 fold cross validation, \n",
    "# search across 100 different combinations, and use all available cores\n",
    "rf_random = RandomizedSearchCV(estimator = rf, param_distributions = random_grid, n_iter = 100, cv = 3, verbose=2, random_state=42, n_jobs = -1)\n",
    "# Fit the random search model\n",
    "rf_random.fit(X_train, y_train)"
   ]
  },
  {
   "cell_type": "code",
   "execution_count": 183,
   "id": "811523fe",
   "metadata": {},
   "outputs": [
    {
     "name": "stdout",
     "output_type": "stream",
     "text": [
      "Model Performance\n",
      "Accuracy = 0.64%.\n"
     ]
    }
   ],
   "source": [
    "def evaluate(model, test_features, test_labels):\n",
    "    predictions = model.predict(test_features)\n",
    "    accuracy = accuracy_score(test_labels,predictions)\n",
    "    print('Model Performance')\n",
    "    print('Accuracy = {:0.2f}%.'.format(accuracy))\n",
    "    \n",
    "    return accuracy\n",
    "base_model = RandomForestClassifier(n_estimators = 10, random_state = 42)\n",
    "base_model.fit(X_train, y_train)\n",
    "base_accuracy = evaluate(base_model, X_test, y_test)"
   ]
  },
  {
   "cell_type": "code",
   "execution_count": 184,
   "id": "b856f501",
   "metadata": {},
   "outputs": [
    {
     "name": "stdout",
     "output_type": "stream",
     "text": [
      "Model Performance\n",
      "Accuracy = 0.72%.\n"
     ]
    }
   ],
   "source": [
    "best_random = rf_random.best_estimator_\n",
    "random_accuracy = evaluate(best_random, X_test, y_test)"
   ]
  },
  {
   "cell_type": "code",
   "execution_count": 185,
   "id": "0c6605b5",
   "metadata": {},
   "outputs": [
    {
     "data": {
      "text/plain": [
       "RandomForestClassifier(min_samples_split=5, n_estimators=200)"
      ]
     },
     "execution_count": 185,
     "metadata": {},
     "output_type": "execute_result"
    }
   ],
   "source": [
    "best_random"
   ]
  },
  {
   "cell_type": "code",
   "execution_count": 186,
   "id": "2ba5a3fb",
   "metadata": {},
   "outputs": [
    {
     "name": "stdout",
     "output_type": "stream",
     "text": [
      "Improvement of 12.80%.\n"
     ]
    }
   ],
   "source": [
    "print('Improvement of {:0.2f}%.'.format( 100 * (random_accuracy - base_accuracy) / base_accuracy))"
   ]
  },
  {
   "cell_type": "code",
   "execution_count": 187,
   "id": "29a6fb22",
   "metadata": {},
   "outputs": [],
   "source": [
    "#grid search\n",
    "from sklearn.model_selection import GridSearchCV\n",
    "# Create the parameter grid based on the results of random search \n",
    "param_grid = {\n",
    "    'bootstrap': [True],\n",
    "    'max_depth': [80, 90, 100, 110],\n",
    "    'max_features': [2, 3],\n",
    "    'min_samples_leaf': [3, 4, 5],\n",
    "    'min_samples_split': [8, 10, 12],\n",
    "    'n_estimators': [100, 200, 300, 1000]\n",
    "}\n",
    "# Create a based model\n",
    "rf_gd = RandomForestClassifier()\n",
    "# Instantiate the grid search model\n",
    "grid_search = GridSearchCV(estimator = rf_gd, param_grid = param_grid, \n",
    "                          cv = 3, n_jobs = -1, verbose = 2)"
   ]
  },
  {
   "cell_type": "code",
   "execution_count": 188,
   "id": "651539b0",
   "metadata": {},
   "outputs": [
    {
     "name": "stdout",
     "output_type": "stream",
     "text": [
      "Fitting 3 folds for each of 288 candidates, totalling 864 fits\n"
     ]
    },
    {
     "data": {
      "text/plain": [
       "{'bootstrap': True,\n",
       " 'max_depth': 90,\n",
       " 'max_features': 3,\n",
       " 'min_samples_leaf': 3,\n",
       " 'min_samples_split': 8,\n",
       " 'n_estimators': 200}"
      ]
     },
     "execution_count": 188,
     "metadata": {},
     "output_type": "execute_result"
    }
   ],
   "source": [
    "# Fit the grid search to the data\n",
    "grid_search.fit(X_train, y_train)\n",
    "grid_search.best_params_"
   ]
  },
  {
   "cell_type": "code",
   "execution_count": 189,
   "id": "e2687076",
   "metadata": {},
   "outputs": [
    {
     "name": "stdout",
     "output_type": "stream",
     "text": [
      "Model Performance\n",
      "Accuracy = 0.93%.\n"
     ]
    }
   ],
   "source": [
    "best_grid = grid_search.best_estimator_\n",
    "grid_accuracy = evaluate(best_grid, X_train, y_train)"
   ]
  },
  {
   "cell_type": "code",
   "execution_count": 190,
   "id": "95982979",
   "metadata": {},
   "outputs": [
    {
     "name": "stdout",
     "output_type": "stream",
     "text": [
      "Improvement of 45.53%.\n"
     ]
    }
   ],
   "source": [
    "print('Improvement of {:0.2f}%.'.format( 100 * (grid_accuracy - base_accuracy) / base_accuracy))"
   ]
  },
  {
   "cell_type": "code",
   "execution_count": null,
   "id": "039a4ad8",
   "metadata": {},
   "outputs": [],
   "source": []
  },
  {
   "cell_type": "code",
   "execution_count": 111,
   "id": "ae137ec8",
   "metadata": {},
   "outputs": [
    {
     "data": {
      "text/plain": [
       "AdaBoostClassifier(base_estimator=DecisionTreeClassifier(max_depth=3),\n",
       "                   n_estimators=100, random_state=42)"
      ]
     },
     "execution_count": 111,
     "metadata": {},
     "output_type": "execute_result"
    }
   ],
   "source": [
    "#ADA\n",
    "from sklearn.ensemble import AdaBoostClassifier\n",
    "from sklearn.tree import DecisionTreeClassifier\n",
    "\n",
    "ada_clf = AdaBoostClassifier(DecisionTreeClassifier(max_depth=3), n_estimators=100,random_state=42)\n",
    "\n",
    "#n_estimators: The maximum number of estimators at which boosting is terminated. \n",
    "\n",
    "ada_clf.fit(X_train, y_train)"
   ]
  },
  {
   "cell_type": "code",
   "execution_count": 112,
   "id": "cec13197",
   "metadata": {},
   "outputs": [
    {
     "name": "stdout",
     "output_type": "stream",
     "text": [
      "0.6496551724137931\n"
     ]
    }
   ],
   "source": [
    "y_pred = ada_clf.predict(X_test)\n",
    "print(accuracy_score(y_test, y_pred))"
   ]
  },
  {
   "cell_type": "code",
   "execution_count": 113,
   "id": "8ad1ee4a",
   "metadata": {},
   "outputs": [
    {
     "name": "stderr",
     "output_type": "stream",
     "text": [
      "C:\\Users\\Kent\\anaconda3\\lib\\site-packages\\xgboost\\sklearn.py:1224: UserWarning: The use of label encoder in XGBClassifier is deprecated and will be removed in a future release. To remove this warning, do the following: 1) Pass option use_label_encoder=False when constructing XGBClassifier object; and 2) Encode your labels (y) as integers starting with 0, i.e. 0, 1, 2, ..., [num_class - 1].\n",
      "  warnings.warn(label_encoder_deprecation_msg, UserWarning)\n"
     ]
    },
    {
     "name": "stdout",
     "output_type": "stream",
     "text": [
      "[13:57:42] WARNING: D:\\bld\\xgboost-split_1634712635879\\work\\src\\learner.cc:1115: Starting in XGBoost 1.3.0, the default evaluation metric used with the objective 'multi:softprob' was changed from 'merror' to 'mlogloss'. Explicitly set eval_metric if you'd like to restore the old behavior.\n"
     ]
    },
    {
     "data": {
      "text/plain": [
       "XGBClassifier(base_score=0.5, booster='gbtree', colsample_bylevel=1,\n",
       "              colsample_bynode=1, colsample_bytree=1, enable_categorical=False,\n",
       "              gamma=0, gpu_id=-1, importance_type=None,\n",
       "              interaction_constraints='', learning_rate=0.300000012,\n",
       "              max_delta_step=0, max_depth=6, min_child_weight=1, missing=nan,\n",
       "              monotone_constraints='()', n_estimators=100, n_jobs=8,\n",
       "              num_parallel_tree=1, objective='multi:softprob', predictor='auto',\n",
       "              random_state=0, reg_alpha=0, reg_lambda=1, scale_pos_weight=None,\n",
       "              subsample=1, tree_method='exact', validate_parameters=1,\n",
       "              verbosity=None)"
      ]
     },
     "execution_count": 113,
     "metadata": {},
     "output_type": "execute_result"
    }
   ],
   "source": [
    "#XGBoost\n",
    "import xgboost\n",
    "xgmodel = xgboost.XGBClassifier()\n",
    "\n",
    "# Fit the model using the training data\n",
    "xgmodel.fit(X_train, y_train)"
   ]
  },
  {
   "cell_type": "code",
   "execution_count": 114,
   "id": "1c9785bc",
   "metadata": {},
   "outputs": [
    {
     "name": "stdout",
     "output_type": "stream",
     "text": [
      "0.7448275862068966\n"
     ]
    }
   ],
   "source": [
    "y_pred = xgmodel.predict(X_test)\n",
    "print(accuracy_score(y_test, y_pred))"
   ]
  },
  {
   "cell_type": "code",
   "execution_count": null,
   "id": "1219408e",
   "metadata": {},
   "outputs": [],
   "source": []
  },
  {
   "cell_type": "code",
   "execution_count": null,
   "id": "6d297037",
   "metadata": {},
   "outputs": [],
   "source": []
  },
  {
   "cell_type": "code",
   "execution_count": 115,
   "id": "b129fc16",
   "metadata": {},
   "outputs": [
    {
     "name": "stderr",
     "output_type": "stream",
     "text": [
      "C:\\Users\\Kent\\anaconda3\\lib\\site-packages\\sklearn\\svm\\_base.py:985: ConvergenceWarning: Liblinear failed to converge, increase the number of iterations.\n",
      "  warnings.warn(\"Liblinear failed to converge, increase \"\n"
     ]
    },
    {
     "data": {
      "text/plain": [
       "LinearSVC()"
      ]
     },
     "execution_count": 115,
     "metadata": {},
     "output_type": "execute_result"
    }
   ],
   "source": [
    "#SVM\n",
    "# Import module for fitting\n",
    "from sklearn.svm import LinearSVC\n",
    "# Create instance (i.e. object) of LogisticRegression\n",
    "model = LinearSVC()\n",
    "# Fit the model using the training data\n",
    "# X_train -> parameter supplies the data features\n",
    "# y_train -> parameter supplies the target labels\n",
    "model.fit(X_train, y_train)"
   ]
  },
  {
   "cell_type": "code",
   "execution_count": 116,
   "id": "2cf497df",
   "metadata": {},
   "outputs": [],
   "source": [
    "#Predicting the target for test data\n",
    "predictions = model.predict(X_test)"
   ]
  },
  {
   "cell_type": "code",
   "execution_count": 117,
   "id": "6eca3531",
   "metadata": {},
   "outputs": [
    {
     "data": {
      "text/plain": [
       "array([0, 1, 1, 2, 2, 2, 1, 2, 1, 1, 2, 1, 0, 0, 1, 1, 1, 0, 1, 2, 1, 1,\n",
       "       1, 2, 2, 1, 1, 1, 1, 1, 1, 1, 1, 0, 0, 0, 1, 1, 0, 2, 1, 1, 1, 1,\n",
       "       1, 1, 1, 2, 1, 1, 1, 1, 1, 0, 2, 1, 0, 1, 0, 1, 1, 1, 1, 1, 1, 2,\n",
       "       1, 1, 1, 1, 2, 1, 2, 1, 1, 1, 0, 2, 1, 1, 0, 0, 2, 1, 0, 2, 1, 1,\n",
       "       1, 1, 0, 1, 1, 1, 1, 0, 1, 0, 1, 2, 1, 1, 0, 1, 0, 1, 1, 1, 1, 1,\n",
       "       1, 1, 2, 2, 1, 1, 1, 2, 1, 1, 1, 1, 1, 1, 1, 1, 0, 1, 1, 1, 2, 0,\n",
       "       0, 1, 1, 1, 1, 1, 1, 0, 1, 2, 0, 0, 1, 0, 1, 2, 1, 1, 1, 2, 2, 1,\n",
       "       0, 2, 1, 0, 0, 1, 2, 0, 1, 1, 0, 1, 1, 1, 0, 0, 1, 1, 1, 1, 1, 1,\n",
       "       1, 1, 2, 1, 2, 1, 1, 0, 1, 1, 1, 1, 1, 1, 1, 0, 1, 1, 0, 2, 1, 2,\n",
       "       1, 1, 0, 1, 1, 1, 1, 1, 1, 1, 1, 0, 1, 0, 1, 1, 2, 1, 2, 1, 0, 1,\n",
       "       1, 1, 1, 1, 2, 1, 1, 1, 1, 1, 0, 1, 1, 0, 1, 1, 1, 1, 1, 1, 1, 1,\n",
       "       1, 1, 1, 1, 1, 2, 1, 1, 1, 0, 1, 1, 1, 1, 0, 1, 2, 1, 1, 1, 1, 1,\n",
       "       1, 1, 1, 1, 2, 0, 1, 0, 1, 1, 1, 1, 1, 1, 0, 0, 2, 1, 1, 0, 1, 1,\n",
       "       0, 1, 0, 2, 1, 0, 1, 2, 1, 1, 1, 1, 1, 2, 1, 1, 1, 1, 1, 1, 1, 1,\n",
       "       1, 1, 0, 1, 0, 1, 2, 1, 0, 0, 1, 1, 1, 1, 1, 0, 1, 0, 0, 1, 0, 2,\n",
       "       2, 1, 1, 1, 0, 1, 1, 0, 1, 1, 1, 1, 1, 0, 1, 1, 1, 1, 2, 1, 0, 1,\n",
       "       1, 1, 0, 1, 1, 2, 2, 1, 1, 1, 1, 0, 1, 0, 0, 1, 2, 2, 1, 1, 1, 1,\n",
       "       1, 0, 0, 0, 1, 0, 0, 1, 1, 0, 0, 0, 1, 1, 2, 2, 1, 1, 1, 1, 1, 0,\n",
       "       1, 1, 2, 1, 2, 1, 1, 0, 0, 1, 0, 1, 1, 1, 1, 2, 1, 1, 0, 1, 0, 1,\n",
       "       0, 2, 1, 0, 1, 0, 0, 1, 1, 1, 0, 2, 1, 2, 2, 1, 0, 0, 1, 1, 1, 1,\n",
       "       1, 1, 1, 1, 1, 1, 0, 0, 1, 0, 1, 1, 2, 1, 1, 1, 1, 1, 0, 1, 1, 2,\n",
       "       1, 2, 0, 1, 1, 1, 1, 1, 0, 0, 1, 1, 0, 1, 0, 2, 1, 2, 0, 2, 1, 1,\n",
       "       1, 0, 1, 0, 0, 1, 1, 0, 1, 1, 1, 0, 1, 1, 1, 1, 1, 1, 1, 0, 1, 1,\n",
       "       1, 0, 1, 2, 1, 0, 1, 0, 0, 2, 1, 1, 0, 0, 0, 1, 1, 1, 2, 0, 1, 0,\n",
       "       1, 1, 1, 1, 1, 2, 1, 2, 0, 2, 1, 1, 2, 1, 1, 1, 2, 0, 1, 1, 1, 2,\n",
       "       1, 1, 0, 0, 1, 0, 1, 1, 2, 1, 1, 1, 1, 0, 1, 0, 0, 1, 1, 1, 2, 1,\n",
       "       1, 2, 1, 1, 0, 2, 1, 1, 1, 1, 1, 1, 1, 0, 1, 1, 1, 1, 1, 1, 2, 1,\n",
       "       0, 0, 1, 1, 2, 2, 1, 0, 2, 0, 0, 2, 1, 1, 2, 1, 1, 0, 1, 2, 1, 1,\n",
       "       0, 0, 1, 1, 1, 0, 0, 1, 1, 1, 0, 1, 1, 1, 0, 1, 2, 0, 1, 0, 1, 1,\n",
       "       1, 2, 2, 0, 0, 0, 1, 1, 0, 2, 2, 1, 0, 2, 1, 1, 0, 1, 1, 2, 0, 1,\n",
       "       1, 1, 1, 1, 1, 0, 0, 1, 1, 1, 2, 0, 1, 1, 1, 1, 1, 1, 1, 1, 1, 0,\n",
       "       1, 1, 1, 1, 1, 0, 1, 0, 1, 1, 1, 1, 1, 2, 0, 0, 0, 1, 1, 1, 1, 1,\n",
       "       1, 1, 1, 1, 1, 2, 1, 1, 1, 1, 1, 0, 1, 2, 1, 1, 2, 1, 1, 1, 1],\n",
       "      dtype=int64)"
      ]
     },
     "execution_count": 117,
     "metadata": {},
     "output_type": "execute_result"
    }
   ],
   "source": [
    "predictions"
   ]
  },
  {
   "cell_type": "code",
   "execution_count": 118,
   "id": "19297cc0",
   "metadata": {},
   "outputs": [
    {
     "name": "stdout",
     "output_type": "stream",
     "text": [
      "              precision    recall  f1-score   support\n",
      "\n",
      "           0       0.46      0.27      0.34       269\n",
      "           1       0.40      0.75      0.53       253\n",
      "           2       0.62      0.30      0.40       203\n",
      "\n",
      "    accuracy                           0.45       725\n",
      "   macro avg       0.49      0.44      0.42       725\n",
      "weighted avg       0.49      0.45      0.42       725\n",
      "\n"
     ]
    }
   ],
   "source": [
    "print(classification_report(y_test,predictions))"
   ]
  },
  {
   "cell_type": "code",
   "execution_count": 125,
   "id": "cc5ff570",
   "metadata": {},
   "outputs": [],
   "source": [
    "#ANN (1st)\n",
    "# Importing the Keras libraries and packages\n",
    "import keras\n",
    "from keras.models import Sequential\n",
    "from keras.layers import Dense\n",
    "from tensorflow.keras.optimizers import SGD"
   ]
  },
  {
   "cell_type": "code",
   "execution_count": 122,
   "id": "be4bec51",
   "metadata": {},
   "outputs": [],
   "source": [
    "# Initialising the ANN\n",
    "classifier = Sequential()\n",
    "\n",
    "# Adding the input layer and the first hidden layer\n",
    "classifier.add(Dense(units = 6, kernel_initializer = 'uniform', activation = 'relu', input_dim = 19))\n",
    "\n",
    "# Adding the second hidden layer\n",
    "classifier.add(Dense(units = 6, kernel_initializer = 'uniform', activation = 'relu'))\n",
    "\n",
    "# Adding the third  hidden layer\n",
    "classifier.add(Dense(units = 6, kernel_initializer = 'uniform', activation = 'relu'))\n",
    "\n",
    "# Adding the output layer\n",
    "classifier.add(Dense(units = 3, kernel_initializer = 'uniform', activation = 'softmax'))\n"
   ]
  },
  {
   "cell_type": "code",
   "execution_count": 126,
   "id": "aed43f75",
   "metadata": {},
   "outputs": [
    {
     "name": "stderr",
     "output_type": "stream",
     "text": [
      "C:\\Users\\Kent\\anaconda3\\lib\\site-packages\\keras\\optimizer_v2\\gradient_descent.py:102: UserWarning: The `lr` argument is deprecated, use `learning_rate` instead.\n",
      "  super(SGD, self).__init__(name, **kwargs)\n"
     ]
    }
   ],
   "source": [
    "# Compiling the ANN\n",
    "opt = SGD(lr=0.01, momentum=0.9)\n",
    "classifier.compile(optimizer = opt, loss = 'categorical_crossentropy', metrics = ['accuracy'])\n"
   ]
  },
  {
   "cell_type": "code",
   "execution_count": 130,
   "id": "73a1d192",
   "metadata": {},
   "outputs": [],
   "source": [
    "from tensorflow.keras.utils import to_categorical\n",
    "y_train = to_categorical(y_train, 3)\n",
    "y_test = to_categorical(y_test, 3)"
   ]
  },
  {
   "cell_type": "code",
   "execution_count": 131,
   "id": "ffd0e5de",
   "metadata": {},
   "outputs": [
    {
     "data": {
      "text/plain": [
       "array([[0., 0., 1.],\n",
       "       [0., 0., 1.],\n",
       "       [1., 0., 0.],\n",
       "       ...,\n",
       "       [0., 1., 0.],\n",
       "       [0., 1., 0.],\n",
       "       [0., 0., 1.]], dtype=float32)"
      ]
     },
     "execution_count": 131,
     "metadata": {},
     "output_type": "execute_result"
    }
   ],
   "source": [
    "y_train"
   ]
  },
  {
   "cell_type": "code",
   "execution_count": 136,
   "id": "cd96e3fa",
   "metadata": {},
   "outputs": [],
   "source": [
    "import tensorflow\n",
    "tensorflow.config.run_functions_eagerly(True)"
   ]
  },
  {
   "cell_type": "code",
   "execution_count": 139,
   "id": "26060246",
   "metadata": {},
   "outputs": [
    {
     "data": {
      "text/plain": [
       "<keras.callbacks.History at 0x282d4d96fa0>"
      ]
     },
     "execution_count": 139,
     "metadata": {},
     "output_type": "execute_result"
    }
   ],
   "source": [
    "# fit model\n",
    "classifier.fit(X_train, y_train, batch_size=10, epochs=50, verbose=0)"
   ]
  },
  {
   "cell_type": "code",
   "execution_count": 140,
   "id": "1c52b6e3",
   "metadata": {},
   "outputs": [],
   "source": [
    "# Part 3 - Making predictions and evaluating the model\n",
    "# Predicting the Test set results\n",
    "y_pred_ann = classifier.predict(X_test)"
   ]
  },
  {
   "cell_type": "code",
   "execution_count": 141,
   "id": "f2b305fa",
   "metadata": {},
   "outputs": [
    {
     "data": {
      "text/plain": [
       "array([[0.34885648, 0.3717186 , 0.279425  ],\n",
       "       [0.34885648, 0.3717186 , 0.279425  ],\n",
       "       [0.34885648, 0.3717186 , 0.279425  ],\n",
       "       ...,\n",
       "       [0.34885648, 0.3717186 , 0.279425  ],\n",
       "       [0.34885648, 0.3717186 , 0.279425  ],\n",
       "       [0.34885648, 0.3717186 , 0.279425  ]], dtype=float32)"
      ]
     },
     "execution_count": 141,
     "metadata": {},
     "output_type": "execute_result"
    }
   ],
   "source": [
    "y_pred_ann"
   ]
  },
  {
   "cell_type": "code",
   "execution_count": 144,
   "id": "5f0429dc",
   "metadata": {},
   "outputs": [],
   "source": [
    "#ANN (2nd)\n",
    "# mlp for the blobs multi-class classification problem with cross-entropy loss\n",
    "from sklearn.datasets import make_blobs\n",
    "from keras.layers import Dense\n",
    "from keras.models import Sequential\n",
    "from tensorflow.keras.optimizers import SGD\n",
    "from tensorflow.keras.utils import to_categorical\n",
    "from matplotlib import pyplot"
   ]
  },
  {
   "cell_type": "code",
   "execution_count": 149,
   "id": "79cbe392",
   "metadata": {},
   "outputs": [],
   "source": [
    "# define model\n",
    "model = Sequential()\n",
    "model.add(Dense(50, input_dim=19, activation='relu', kernel_initializer='he_uniform'))\n",
    "model.add(Dense(3, activation='softmax'))"
   ]
  },
  {
   "cell_type": "code",
   "execution_count": 150,
   "id": "e85ec551",
   "metadata": {},
   "outputs": [],
   "source": [
    "# compile model\n",
    "opt = SGD(lr=0.01, momentum=0.9)\n",
    "model.compile(loss='categorical_crossentropy', optimizer=opt, metrics=['accuracy'])\n"
   ]
  },
  {
   "cell_type": "code",
   "execution_count": 151,
   "id": "48085a74",
   "metadata": {},
   "outputs": [],
   "source": [
    "# fit model\n",
    "history = model.fit(X_train, y_train, validation_data=(X_test, y_test), epochs=100, verbose=0)\n"
   ]
  },
  {
   "cell_type": "code",
   "execution_count": 157,
   "id": "15ef48c6",
   "metadata": {},
   "outputs": [],
   "source": [
    "y_pred_ann = model.predict(X_test)"
   ]
  },
  {
   "cell_type": "code",
   "execution_count": 158,
   "id": "a224f18a",
   "metadata": {},
   "outputs": [
    {
     "data": {
      "text/plain": [
       "array([[0.25083995, 0.34989917, 0.39926094],\n",
       "       [0.28717032, 0.58831364, 0.12451606],\n",
       "       [0.36107656, 0.38728943, 0.251634  ],\n",
       "       ...,\n",
       "       [0.37819302, 0.40606886, 0.21573816],\n",
       "       [0.3184902 , 0.5636454 , 0.11786437],\n",
       "       [0.41171765, 0.44653246, 0.1417499 ]], dtype=float32)"
      ]
     },
     "execution_count": 158,
     "metadata": {},
     "output_type": "execute_result"
    }
   ],
   "source": [
    "y_pred_ann"
   ]
  },
  {
   "cell_type": "code",
   "execution_count": 159,
   "id": "7c179d80",
   "metadata": {},
   "outputs": [
    {
     "data": {
      "text/plain": [
       "array([[0., 0., 1.],\n",
       "       [1., 0., 0.],\n",
       "       [0., 0., 1.],\n",
       "       ...,\n",
       "       [1., 0., 0.],\n",
       "       [1., 0., 0.],\n",
       "       [0., 1., 0.]], dtype=float32)"
      ]
     },
     "execution_count": 159,
     "metadata": {},
     "output_type": "execute_result"
    }
   ],
   "source": [
    "y_test"
   ]
  },
  {
   "cell_type": "code",
   "execution_count": 154,
   "id": "028d1836",
   "metadata": {},
   "outputs": [
    {
     "name": "stdout",
     "output_type": "stream",
     "text": [
      "Train: 0.556, Test: 0.490\n"
     ]
    }
   ],
   "source": [
    "# evaluate the model\n",
    "_, train_acc = model.evaluate(X_train, y_train, verbose=0)\n",
    "_, test_acc = model.evaluate(X_test, y_test, verbose=0)\n",
    "print('Train: %.3f, Test: %.3f' % (train_acc, test_acc))"
   ]
  },
  {
   "cell_type": "code",
   "execution_count": 155,
   "id": "b95c4812",
   "metadata": {},
   "outputs": [
    {
     "data": {
      "text/plain": [
       "<matplotlib.legend.Legend at 0x282d5075400>"
      ]
     },
     "execution_count": 155,
     "metadata": {},
     "output_type": "execute_result"
    },
    {
     "data": {
      "image/png": "[encoded data removed]",
      "text/plain": [
       "<Figure size 432x288 with 1 Axes>"
      ]
     },
     "metadata": {
      "needs_background": "light"
     },
     "output_type": "display_data"
    }
   ],
   "source": [
    "# plot loss during training\n",
    "pyplot.subplot(211)\n",
    "pyplot.title('Loss')\n",
    "pyplot.plot(history.history['loss'], label='train')\n",
    "pyplot.plot(history.history['val_loss'], label='test')\n",
    "pyplot.legend()"
   ]
  },
  {
   "cell_type": "code",
   "execution_count": 156,
   "id": "744b4375",
   "metadata": {},
   "outputs": [
    {
     "data": {
      "image/png": "[encoded data removed]",
      "text/plain": [
       "<Figure size 432x288 with 1 Axes>"
      ]
     },
     "metadata": {
      "needs_background": "light"
     },
     "output_type": "display_data"
    }
   ],
   "source": [
    "# plot accuracy during training\n",
    "pyplot.subplot(212)\n",
    "pyplot.title('Accuracy')\n",
    "pyplot.plot(history.history['accuracy'], label='train')\n",
    "pyplot.plot(history.history['val_accuracy'], label='test')\n",
    "pyplot.legend()\n",
    "pyplot.show()"
   ]
  },
  {
   "cell_type": "code",
   "execution_count": 169,
   "id": "12e631c8",
   "metadata": {},
   "outputs": [
    {
     "data": {
      "text/plain": [
       "array([[0.36809215, 0.4341901 , 0.19771782],\n",
       "       [0.36169606, 0.4270371 , 0.21126682],\n",
       "       [0.37915155, 0.4456542 , 0.17519419],\n",
       "       ...,\n",
       "       [0.3827475 , 0.44867438, 0.16857818],\n",
       "       [0.39350986, 0.4488319 , 0.15765819],\n",
       "       [0.38901347, 0.45241016, 0.1585764 ]], dtype=float32)"
      ]
     },
     "execution_count": 169,
     "metadata": {},
     "output_type": "execute_result"
    }
   ],
   "source": [
    "#ANN(2nd:modified)\n",
    "from keras.layers import Dropout\n",
    "model = Sequential()\n",
    "model.add(Dense(10, input_dim=19, activation='relu', kernel_initializer='uniform'))\n",
    "model.add(Dropout(0.2))\n",
    "model.add(Dense(10, activation='relu', kernel_initializer='uniform'))\n",
    "model.add(Dropout(0.2))\n",
    "model.add(Dense(3, activation='softmax'))\n",
    "\n",
    "# compile model\n",
    "opt = SGD(lr=0.01, momentum=0.9)\n",
    "model.compile(loss='categorical_crossentropy', optimizer=opt, metrics=['accuracy'])\n",
    "\n",
    "# fit model\n",
    "history = model.fit(X_train, y_train, validation_data=(X_test, y_test), batch_size=10, epochs=50, verbose=0)\n",
    "\n",
    "y_pred_ann = model.predict(X_test)\n",
    "y_pred_ann"
   ]
  },
  {
   "cell_type": "code",
   "execution_count": 170,
   "id": "e54cd9b8",
   "metadata": {},
   "outputs": [
    {
     "data": {
      "text/plain": [
       "array([[0., 0., 1.],\n",
       "       [1., 0., 0.],\n",
       "       [0., 0., 1.],\n",
       "       ...,\n",
       "       [1., 0., 0.],\n",
       "       [1., 0., 0.],\n",
       "       [0., 1., 0.]], dtype=float32)"
      ]
     },
     "execution_count": 170,
     "metadata": {},
     "output_type": "execute_result"
    }
   ],
   "source": [
    "y_test"
   ]
  },
  {
   "cell_type": "code",
   "execution_count": 171,
   "id": "28c37fea",
   "metadata": {},
   "outputs": [
    {
     "name": "stdout",
     "output_type": "stream",
     "text": [
      "Train: 0.484, Test: 0.465\n"
     ]
    }
   ],
   "source": [
    "# evaluate the model\n",
    "_, train_acc = model.evaluate(X_train, y_train, verbose=0)\n",
    "_, test_acc = model.evaluate(X_test, y_test, verbose=0)\n",
    "print('Train: %.3f, Test: %.3f' % (train_acc, test_acc))"
   ]
  },
  {
   "cell_type": "code",
   "execution_count": null,
   "id": "49972305",
   "metadata": {},
   "outputs": [],
   "source": []
  }
 ],
 "metadata": {
  "kernelspec": {
   "display_name": "Python 3 (ipykernel)",
   "language": "python",
   "name": "python3"
  },
  "language_info": {
   "codemirror_mode": {
    "name": "ipython",
    "version": 3
   },
   "file_extension": ".py",
   "mimetype": "text/x-python",
   "name": "python",
   "nbconvert_exporter": "python",
   "pygments_lexer": "ipython3",
   "version": "3.9.7"
  }
 },
 "nbformat": 4,
 "nbformat_minor": 5
}
